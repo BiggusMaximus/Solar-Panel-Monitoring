{
 "cells": [
  {
   "cell_type": "code",
   "execution_count": 1,
   "metadata": {},
   "outputs": [],
   "source": [
    "import pandas as pd\n",
    "import numpy as np\n",
    "import matplotlib.pyplot as plt\n",
    "import scipy \n",
    "import seaborn as sns\n",
    "import statsmodels.api as sm\n",
    "from statsmodels.formula.api import ols\n",
    "from statsmodels.stats.multicomp import pairwise_tukeyhsd\n",
    "from bioinfokit.analys import stat"
   ]
  },
  {
   "cell_type": "code",
   "execution_count": 2,
   "metadata": {},
   "outputs": [
    {
     "data": {
      "text/html": [
       "<div>\n",
       "<style scoped>\n",
       "    .dataframe tbody tr th:only-of-type {\n",
       "        vertical-align: middle;\n",
       "    }\n",
       "\n",
       "    .dataframe tbody tr th {\n",
       "        vertical-align: top;\n",
       "    }\n",
       "\n",
       "    .dataframe thead th {\n",
       "        text-align: right;\n",
       "    }\n",
       "</style>\n",
       "<table border=\"1\" class=\"dataframe\">\n",
       "  <thead>\n",
       "    <tr style=\"text-align: right;\">\n",
       "      <th></th>\n",
       "      <th>index</th>\n",
       "      <th>voltage</th>\n",
       "      <th>value</th>\n",
       "    </tr>\n",
       "  </thead>\n",
       "  <tbody>\n",
       "    <tr>\n",
       "      <th>0</th>\n",
       "      <td>124</td>\n",
       "      <td>0.5v</td>\n",
       "      <td>0.50</td>\n",
       "    </tr>\n",
       "    <tr>\n",
       "      <th>1</th>\n",
       "      <td>125</td>\n",
       "      <td>0.5v</td>\n",
       "      <td>0.50</td>\n",
       "    </tr>\n",
       "    <tr>\n",
       "      <th>2</th>\n",
       "      <td>126</td>\n",
       "      <td>0.5v</td>\n",
       "      <td>0.50</td>\n",
       "    </tr>\n",
       "    <tr>\n",
       "      <th>3</th>\n",
       "      <td>127</td>\n",
       "      <td>0.5v</td>\n",
       "      <td>0.50</td>\n",
       "    </tr>\n",
       "    <tr>\n",
       "      <th>4</th>\n",
       "      <td>128</td>\n",
       "      <td>0.5v</td>\n",
       "      <td>0.50</td>\n",
       "    </tr>\n",
       "    <tr>\n",
       "      <th>...</th>\n",
       "      <td>...</td>\n",
       "      <td>...</td>\n",
       "      <td>...</td>\n",
       "    </tr>\n",
       "    <tr>\n",
       "      <th>8061</th>\n",
       "      <td>8995</td>\n",
       "      <td>24.5v</td>\n",
       "      <td>24.57</td>\n",
       "    </tr>\n",
       "    <tr>\n",
       "      <th>8062</th>\n",
       "      <td>8996</td>\n",
       "      <td>24.5v</td>\n",
       "      <td>24.57</td>\n",
       "    </tr>\n",
       "    <tr>\n",
       "      <th>8063</th>\n",
       "      <td>8997</td>\n",
       "      <td>24.5v</td>\n",
       "      <td>24.57</td>\n",
       "    </tr>\n",
       "    <tr>\n",
       "      <th>8064</th>\n",
       "      <td>8998</td>\n",
       "      <td>24.5v</td>\n",
       "      <td>24.57</td>\n",
       "    </tr>\n",
       "    <tr>\n",
       "      <th>8065</th>\n",
       "      <td>8999</td>\n",
       "      <td>24.5v</td>\n",
       "      <td>24.57</td>\n",
       "    </tr>\n",
       "  </tbody>\n",
       "</table>\n",
       "<p>8066 rows × 3 columns</p>\n",
       "</div>"
      ],
      "text/plain": [
       "      index voltage  value\n",
       "0       124    0.5v   0.50\n",
       "1       125    0.5v   0.50\n",
       "2       126    0.5v   0.50\n",
       "3       127    0.5v   0.50\n",
       "4       128    0.5v   0.50\n",
       "...     ...     ...    ...\n",
       "8061   8995   24.5v  24.57\n",
       "8062   8996   24.5v  24.57\n",
       "8063   8997   24.5v  24.57\n",
       "8064   8998   24.5v  24.57\n",
       "8065   8999   24.5v  24.57\n",
       "\n",
       "[8066 rows x 3 columns]"
      ]
     },
     "execution_count": 2,
     "metadata": {},
     "output_type": "execute_result"
    }
   ],
   "source": [
    "df_all = pd.read_csv('../docs 2nd Approach/remove_outlier_chauvenet_voltage.csv')\n",
    "df_all\n"
   ]
  },
  {
   "cell_type": "code",
   "execution_count": 3,
   "metadata": {},
   "outputs": [],
   "source": [
    "df_u = df_all.pivot(columns='voltage', values='value')\n",
    "df_05v = df_u['0.5v'].dropna().reset_index(drop=True)\n",
    "df_3v = df_u['3v'].dropna().reset_index(drop=True)\n",
    "df_6v = df_u['6v'].dropna().reset_index(drop=True)\n",
    "df_9v = df_u['9v'].dropna().reset_index(drop=True)\n",
    "df_12v = df_u['12v'].dropna().reset_index(drop=True)\n",
    "df_15v = df_u['15v'].dropna().reset_index(drop=True)\n",
    "df_18v = df_u['18v'].dropna().reset_index(drop=True)\n",
    "df_21v = df_u['21v'].dropna().reset_index(drop=True)\n",
    "df_24_5v = df_u['24.5v'].dropna().reset_index(drop=True)\n",
    "\n",
    "val = {\n",
    "    \"0.5v\" : df_05v,\n",
    "    \"3v\" : df_3v,\n",
    "    \"6v\" : df_6v,\n",
    "    \"9v\" : df_9v,\n",
    "    \"12v\" : df_12v,\n",
    "    \"15v\" : df_15v,\n",
    "    \"18v\" : df_18v,\n",
    "    \"21v\" : df_21v,\n",
    "    \"24.5v\" : df_24_5v\n",
    "}\n",
    "\n",
    "df = {}\n"
   ]
  },
  {
   "attachments": {},
   "cell_type": "markdown",
   "metadata": {},
   "source": [
    "# Uncertainy Range (Vmax - Vmin / n)"
   ]
  },
  {
   "cell_type": "code",
   "execution_count": 12,
   "metadata": {},
   "outputs": [
    {
     "name": "stdout",
     "output_type": "stream",
     "text": [
      "0.0\n",
      "0.0\n",
      "5.1635111876075396e-05\n",
      "0.0\n",
      "7.121057985757913e-05\n",
      "0.0\n",
      "9.072580645161276e-05\n",
      "0.0\n",
      "0.00012036108324975024\n",
      "0.0\n",
      "0.00012048192771084437\n",
      "0.0\n",
      "0.00014999999999999858\n",
      "0.0\n",
      "0.000129999999999999\n",
      "0.0\n",
      "0.00012000000000000099\n",
      "0.0\n"
     ]
    }
   ],
   "source": [
    "for i in val.keys():\n",
    "    print((val[i].max() - val[i].min()) / len(val[i]))\n",
    "    print(float(\"{:.2f}\".format((val[i].max() - val[i].min()) / len(val[i]))))"
   ]
  },
  {
   "attachments": {},
   "cell_type": "markdown",
   "metadata": {},
   "source": [
    "# Mean Deviation"
   ]
  },
  {
   "cell_type": "code",
   "execution_count": 22,
   "metadata": {},
   "outputs": [
    {
     "name": "stdout",
     "output_type": "stream",
     "text": [
      "Mean of 0.5v is 0.0\n",
      "Mean of 3v is 0.01\n",
      "Mean of 6v is 0.01\n",
      "Mean of 9v is 0.01\n",
      "Mean of 12v is 0.01\n",
      "Mean of 15v is 0.01\n",
      "Mean of 18v is 0.02\n",
      "Mean of 21v is 0.02\n",
      "Mean of 24.5v is 0.01\n"
     ]
    }
   ],
   "source": [
    "for i in val.keys():\n",
    "    temp = []\n",
    "    for j in val[i]:\n",
    "        temp.append(abs(j - val[i].mean()))\n",
    "    \n",
    "    print(f\"Mean of {i} is {round(sum(temp) / len(temp), 2)}\")\n",
    "    temp = []\n"
   ]
  },
  {
   "cell_type": "code",
   "execution_count": null,
   "metadata": {},
   "outputs": [],
   "source": [
    "float(\"{:.2f}\".format())"
   ]
  },
  {
   "cell_type": "code",
   "execution_count": 15,
   "metadata": {},
   "outputs": [
    {
     "data": {
      "text/plain": [
       "1234234"
      ]
     },
     "execution_count": 15,
     "metadata": {},
     "output_type": "execute_result"
    }
   ],
   "source": [
    "abs(-1234234)"
   ]
  },
  {
   "cell_type": "code",
   "execution_count": 20,
   "metadata": {},
   "outputs": [
    {
     "data": {
      "text/plain": [
       "4.76"
      ]
     },
     "execution_count": 20,
     "metadata": {},
     "output_type": "execute_result"
    }
   ],
   "source": [
    "round(4.7565, 2)"
   ]
  },
  {
   "cell_type": "code",
   "execution_count": 23,
   "metadata": {},
   "outputs": [
    {
     "data": {
      "text/plain": [
       "0.01"
      ]
     },
     "execution_count": 23,
     "metadata": {},
     "output_type": "execute_result"
    }
   ],
   "source": [
    "round(0.015, 2)"
   ]
  },
  {
   "cell_type": "code",
   "execution_count": 26,
   "metadata": {},
   "outputs": [
    {
     "data": {
      "text/plain": [
       "0.5"
      ]
     },
     "execution_count": 26,
     "metadata": {},
     "output_type": "execute_result"
    }
   ],
   "source": [
    "round(val['0.5v'].mean(), 2)"
   ]
  },
  {
   "cell_type": "code",
   "execution_count": null,
   "metadata": {},
   "outputs": [],
   "source": []
  }
 ],
 "metadata": {
  "kernelspec": {
   "display_name": "Yolo2TFLite",
   "language": "python",
   "name": "python3"
  },
  "language_info": {
   "codemirror_mode": {
    "name": "ipython",
    "version": 3
   },
   "file_extension": ".py",
   "mimetype": "text/x-python",
   "name": "python",
   "nbconvert_exporter": "python",
   "pygments_lexer": "ipython3",
   "version": "3.7.3"
  },
  "orig_nbformat": 4,
  "vscode": {
   "interpreter": {
    "hash": "d6462f88199808a8302aa5aff60b48faf49ed9099ed9d7a9038245edaa5fe56e"
   }
  }
 },
 "nbformat": 4,
 "nbformat_minor": 2
}
