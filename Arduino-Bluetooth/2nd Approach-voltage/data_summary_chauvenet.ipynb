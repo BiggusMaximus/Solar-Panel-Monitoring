{
 "cells": [
  {
   "cell_type": "code",
   "execution_count": 1,
   "metadata": {},
   "outputs": [],
   "source": [
    "import pandas as pd\n",
    "import numpy as np\n",
    "import matplotlib.pyplot as plt\n",
    "import scipy \n",
    "import seaborn as sns\n",
    "import statsmodels.api as sm\n",
    "from statsmodels.formula.api import ols\n",
    "from statsmodels.stats.multicomp import pairwise_tukeyhsd\n",
    "from bioinfokit.analys import stat"
   ]
  },
  {
   "cell_type": "code",
   "execution_count": 51,
   "metadata": {},
   "outputs": [],
   "source": [
    "df_all = pd.read_csv('../docs 2nd Approach/remove_outlier_chauvenet_voltage.csv')"
   ]
  },
  {
   "cell_type": "code",
   "execution_count": 52,
   "metadata": {},
   "outputs": [],
   "source": [
    "df_u = df_all.pivot(columns='voltage', values='value')\n",
    "df_05v = df_u['0.5v'].dropna().reset_index(drop=True)\n",
    "df_3v = df_u['3v'].dropna().reset_index(drop=True)\n",
    "df_6v = df_u['6v'].dropna().reset_index(drop=True)\n",
    "df_9v = df_u['9v'].dropna().reset_index(drop=True)\n",
    "df_12v = df_u['12v'].dropna().reset_index(drop=True)\n",
    "df_15v = df_u['15v'].dropna().reset_index(drop=True)\n",
    "df_18v = df_u['18v'].dropna().reset_index(drop=True)\n",
    "df_21v = df_u['21v'].dropna().reset_index(drop=True)\n",
    "df_24_5v = df_u['24.5v'].dropna().reset_index(drop=True)\n",
    "\n",
    "val = {\n",
    "    \"0.5v\" : df_05v,\n",
    "    \"3v\" : df_3v,\n",
    "    \"6v\" : df_6v,\n",
    "    \"9v\" : df_9v,\n",
    "    \"12v\" : df_12v,\n",
    "    \"15v\" : df_15v,\n",
    "    \"18v\" : df_18v,\n",
    "    \"21v\" : df_21v,\n",
    "    \"24.5v\" : df_24_5v\n",
    "}\n",
    "\n",
    "df = {}\n"
   ]
  },
  {
   "cell_type": "code",
   "execution_count": 53,
   "metadata": {},
   "outputs": [],
   "source": [
    "for i in val.keys():\n",
    "    df[i] = [float(\"{:.2f}\".format(val[i].mean())), float(\"{:.2f}\".format(val[i].std())), float(\"{:.2f}\".format(val[i].sem())), f\"{round(val[i].mean(), 2)} ± {round(2*(val[i].sem()/len(val[i])), 2)}\"]\n",
    "\n",
    "df = pd.DataFrame(df, index=['Mean', 'Standard Deviation', 'Standard Error', 'Uncertainty'])\n",
    "df.to_excel('../docs 2nd Approach/data_summary_chauvenet_uncertainty.xlsx')\n",
    "df.to_csv('../docs 2nd Approach/data_summary_chauvenet_uncertainty.csv')"
   ]
  },
  {
   "cell_type": "code",
   "execution_count": 54,
   "metadata": {},
   "outputs": [],
   "source": [
    "df_old = pd.read_csv('../docs 2nd Approach/all_voltage.csv')\n",
    "df_old_summary = {}\n",
    "for i in df_old.columns:\n",
    "    df_old_summary[i] = [float(\"{:.2f}\".format(df_old[i].mean())), float(\"{:.2f}\".format(df_old[i].std())), float(\"{:.2f}\".format(df_old[i].sem())), f\"{round(df_old[i].mean(), 2)} ± {round(2*(df_old[i].sem()/len(df_old[i])), 2)}\"]\n",
    "\n",
    "df_old_summary = pd.DataFrame(df_old_summary, index=['Mean', 'Standard Deviation', 'Standard Error', 'Uncertainty'])\n",
    "df_old_summary.to_excel('../docs 2nd Approach/data_summary_uncertainty.xlsx')\n",
    "df_old_summary.to_csv('../docs 2nd Approach/data_summary_uncertainty.csv')\n"
   ]
  },
  {
   "cell_type": "code",
   "execution_count": 55,
   "metadata": {},
   "outputs": [],
   "source": [
    "for i in val.keys():\n",
    "    df[i] = [val[i].mean(), val[i].std(), val[i].sem(), f\"{val[i].mean()} ± {2*(val[i].sem()/len(val[i]))}\"]\n",
    "\n",
    "df = pd.DataFrame(df, index=['Mean', 'Standard Deviation', 'Standard Error', 'Uncertainty'])\n",
    "df.to_excel('../docs 2nd Approach/data_summary_without_roundup_chauvenet_uncertainty.xlsx')\n",
    "df.to_csv('../docs 2nd Approach/data_summary_without_roundup_chauvenet_uncertainty.csv')"
   ]
  },
  {
   "cell_type": "code",
   "execution_count": 56,
   "metadata": {},
   "outputs": [],
   "source": [
    "df_old = pd.read_csv('../docs 2nd Approach/all_voltage.csv')\n",
    "df_old_summary = {}\n",
    "for i in df_old.columns:\n",
    "    df_old_summary[i] = [df_old[i].mean(), df_old[i].std(), df_old[i].sem(), f\"{df_old[i].mean()} ± {2*(df_old[i].sem()/len(df_old[i]))}\"]\n",
    "\n",
    "df_old_summary = pd.DataFrame(df_old_summary, index=['Mean', 'Standard Deviation', 'Standard Error', 'Uncertainty'])\n",
    "df_old_summary.to_excel('../docs 2nd Approach/data_summary_without_roundup_uncertainty.xlsx')\n",
    "df_old_summary.to_csv('../docs 2nd Approach/data_summary_without_roundup_uncertainty.csv')\n"
   ]
  },
  {
   "cell_type": "code",
   "execution_count": null,
   "metadata": {},
   "outputs": [],
   "source": []
  }
 ],
 "metadata": {
  "kernelspec": {
   "display_name": "env",
   "language": "python",
   "name": "python3"
  },
  "language_info": {
   "codemirror_mode": {
    "name": "ipython",
    "version": 3
   },
   "file_extension": ".py",
   "mimetype": "text/x-python",
   "name": "python",
   "nbconvert_exporter": "python",
   "pygments_lexer": "ipython3",
   "version": "3.7.3"
  },
  "orig_nbformat": 4,
  "vscode": {
   "interpreter": {
    "hash": "9815267a4b24ca8565ce40d21702d94693c86a59a32eb5a72af4482704603abb"
   }
  }
 },
 "nbformat": 4,
 "nbformat_minor": 2
}
