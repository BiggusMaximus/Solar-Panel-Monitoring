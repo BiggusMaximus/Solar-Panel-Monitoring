{
 "cells": [
  {
   "cell_type": "code",
   "execution_count": 1,
   "metadata": {},
   "outputs": [],
   "source": [
    "import pandas as pd\n",
    "import numpy as np\n",
    "import matplotlib.pyplot as plt\n",
    "import scipy \n",
    "import seaborn as sns\n",
    "import scipy.stats as stats\n",
    "import statsmodels.api as sm\n",
    "from statsmodels.formula.api import ols\n",
    "from statsmodels.stats.multicomp import pairwise_tukeyhsd\n",
    "from scipy.special import erfc"
   ]
  },
  {
   "cell_type": "code",
   "execution_count": 41,
   "metadata": {},
   "outputs": [],
   "source": [
    "df = pd.read_csv('../docs 2nd Approach/relative_error.csv')\n",
    "df = df.apply(lambda x: x.sort_values().values)\n",
    "\n",
    "list_voltage = []\n",
    "for i in df.columns:\n",
    "    list_voltage.append(str(i))\n",
    "\n",
    "df_melt = pd.melt(df.reset_index(), id_vars=['index'], value_vars=list_voltage)\n",
    "# replace column names\n",
    "df_melt.columns = ['index', 'voltage', 'value']\n",
    "df_melt\n",
    "\n",
    "df_05v = df['0.5v']\n",
    "df_9v = df['9v']\n",
    "df_3v = df['3v']\n",
    "df_6v = df['6v']\n",
    "df_18v = df['18v']\n",
    "df_15v = df['15v']\n",
    "df_12v = df['12v']\n",
    "df_21v = df['21v']\n",
    "df_24_5v = df['24.5v']\n"
   ]
  },
  {
   "cell_type": "code",
   "execution_count": 42,
   "metadata": {},
   "outputs": [],
   "source": [
    "def chauvenet(array):\n",
    "    mean = array.mean()           # Mean of incoming array\n",
    "    stdv = array.std()            # Standard deviation\n",
    "    N = len(array)                # Lenght of incoming array\n",
    "    criterion = 1.0/(2*N)         # Chauvenet's criterion\n",
    "    d = abs(array-mean)/stdv      # Distance of a value to mean in stdv's\n",
    "    prob = erfc(d)                # Area normal dist.    \n",
    "    return prob < criterion       # Use boolean array outside this function ,"
   ]
  },
  {
   "attachments": {},
   "cell_type": "markdown",
   "metadata": {},
   "source": [
    "# 0.5v"
   ]
  },
  {
   "cell_type": "code",
   "execution_count": 43,
   "metadata": {},
   "outputs": [
    {
     "name": "stdout",
     "output_type": "stream",
     "text": [
      "1.7460000000000013\n"
     ]
    },
    {
     "data": {
      "text/html": [
       "<div>\n",
       "<style scoped>\n",
       "    .dataframe tbody tr th:only-of-type {\n",
       "        vertical-align: middle;\n",
       "    }\n",
       "\n",
       "    .dataframe tbody tr th {\n",
       "        vertical-align: top;\n",
       "    }\n",
       "\n",
       "    .dataframe thead th {\n",
       "        text-align: right;\n",
       "    }\n",
       "</style>\n",
       "<table border=\"1\" class=\"dataframe\">\n",
       "  <thead>\n",
       "    <tr style=\"text-align: right;\">\n",
       "      <th></th>\n",
       "      <th>Iteration - 0</th>\n",
       "    </tr>\n",
       "  </thead>\n",
       "  <tbody>\n",
       "    <tr>\n",
       "      <th>Mean</th>\n",
       "      <td>1.74600</td>\n",
       "    </tr>\n",
       "    <tr>\n",
       "      <th>Standard Deviation</th>\n",
       "      <td>4.68203</td>\n",
       "    </tr>\n",
       "    <tr>\n",
       "      <th>Outlier</th>\n",
       "      <td>37.00000</td>\n",
       "    </tr>\n",
       "  </tbody>\n",
       "</table>\n",
       "</div>"
      ],
      "text/plain": [
       "                    Iteration - 0\n",
       "Mean                      1.74600\n",
       "Standard Deviation        4.68203\n",
       "Outlier                  37.00000"
      ]
     },
     "execution_count": 43,
     "metadata": {},
     "output_type": "execute_result"
    }
   ],
   "source": [
    "df = {}\n",
    "count = 0 \n",
    "while(len(df_05v[chauvenet(df_05v) == True]) != 0 ):\n",
    "    len_0 = len(df_05v)\n",
    "    print(df_05v.mean())\n",
    "    df[f'Iteration - {count}'] = [df_05v.mean(), df_05v.std()]\n",
    "    df_05v = df_05v.drop(df_05v[chauvenet(df_05v) == True].index)\n",
    "    df[f'Iteration - {count}'].append(len_0 - len(df_05v))\n",
    "    df_05v = df_05v.reset_index(drop=True)\n",
    "    count += 1\n",
    "\n",
    "df = pd.DataFrame(df, index=['Mean', 'Standard Deviation', 'Outlier'])\n",
    "df\n"
   ]
  },
  {
   "attachments": {},
   "cell_type": "markdown",
   "metadata": {},
   "source": [
    "# 3v"
   ]
  },
  {
   "cell_type": "code",
   "execution_count": 44,
   "metadata": {},
   "outputs": [
    {
     "name": "stdout",
     "output_type": "stream",
     "text": [
      "0.8726666666666679\n",
      "0.8946127946127959\n",
      "0.9809009009009015\n"
     ]
    },
    {
     "data": {
      "text/html": [
       "<div>\n",
       "<style scoped>\n",
       "    .dataframe tbody tr th:only-of-type {\n",
       "        vertical-align: middle;\n",
       "    }\n",
       "\n",
       "    .dataframe tbody tr th {\n",
       "        vertical-align: top;\n",
       "    }\n",
       "\n",
       "    .dataframe thead th {\n",
       "        text-align: right;\n",
       "    }\n",
       "</style>\n",
       "<table border=\"1\" class=\"dataframe\">\n",
       "  <thead>\n",
       "    <tr style=\"text-align: right;\">\n",
       "      <th></th>\n",
       "      <th>Iteration - 0</th>\n",
       "      <th>Iteration - 1</th>\n",
       "      <th>Iteration - 2</th>\n",
       "    </tr>\n",
       "  </thead>\n",
       "  <tbody>\n",
       "    <tr>\n",
       "      <th>Mean</th>\n",
       "      <td>0.872667</td>\n",
       "      <td>0.894613</td>\n",
       "      <td>0.980901</td>\n",
       "    </tr>\n",
       "    <tr>\n",
       "      <th>Standard Deviation</th>\n",
       "      <td>0.530472</td>\n",
       "      <td>0.483643</td>\n",
       "      <td>0.369919</td>\n",
       "    </tr>\n",
       "    <tr>\n",
       "      <th>Outlier</th>\n",
       "      <td>10.000000</td>\n",
       "      <td>65.000000</td>\n",
       "      <td>27.000000</td>\n",
       "    </tr>\n",
       "  </tbody>\n",
       "</table>\n",
       "</div>"
      ],
      "text/plain": [
       "                    Iteration - 0  Iteration - 1  Iteration - 2\n",
       "Mean                     0.872667       0.894613       0.980901\n",
       "Standard Deviation       0.530472       0.483643       0.369919\n",
       "Outlier                 10.000000      65.000000      27.000000"
      ]
     },
     "execution_count": 44,
     "metadata": {},
     "output_type": "execute_result"
    }
   ],
   "source": [
    "df = {}\n",
    "count = 0 \n",
    "while(len(df_3v[chauvenet(df_3v) == True]) != 0 ):\n",
    "    len_0 = len(df_3v)\n",
    "    print(df_3v.mean())\n",
    "    df[f'Iteration - {count}'] = [df_3v.mean(), df_3v.std()]\n",
    "    df_3v = df_3v.drop(df_3v[chauvenet(df_3v) == True].index)\n",
    "    df[f'Iteration - {count}'].append(len_0 - len(df_3v))\n",
    "    df_3v = df_3v.reset_index(drop=True)\n",
    "    count += 1\n",
    "\n",
    "df = pd.DataFrame(df, index=['Mean', 'Standard Deviation', 'Outlier'])\n",
    "df\n"
   ]
  },
  {
   "attachments": {},
   "cell_type": "markdown",
   "metadata": {},
   "source": [
    "# 6v"
   ]
  },
  {
   "cell_type": "code",
   "execution_count": 45,
   "metadata": {},
   "outputs": [
    {
     "name": "stdout",
     "output_type": "stream",
     "text": [
      "0.008333333333332974\n",
      "0.01831129196337701\n"
     ]
    },
    {
     "data": {
      "text/html": [
       "<div>\n",
       "<style scoped>\n",
       "    .dataframe tbody tr th:only-of-type {\n",
       "        vertical-align: middle;\n",
       "    }\n",
       "\n",
       "    .dataframe tbody tr th {\n",
       "        vertical-align: top;\n",
       "    }\n",
       "\n",
       "    .dataframe thead th {\n",
       "        text-align: right;\n",
       "    }\n",
       "</style>\n",
       "<table border=\"1\" class=\"dataframe\">\n",
       "  <thead>\n",
       "    <tr style=\"text-align: right;\">\n",
       "      <th></th>\n",
       "      <th>Iteration - 0</th>\n",
       "      <th>Iteration - 1</th>\n",
       "    </tr>\n",
       "  </thead>\n",
       "  <tbody>\n",
       "    <tr>\n",
       "      <th>Mean</th>\n",
       "      <td>0.008333</td>\n",
       "      <td>0.018311</td>\n",
       "    </tr>\n",
       "    <tr>\n",
       "      <th>Standard Deviation</th>\n",
       "      <td>0.281581</td>\n",
       "      <td>0.247991</td>\n",
       "    </tr>\n",
       "    <tr>\n",
       "      <th>Outlier</th>\n",
       "      <td>17.000000</td>\n",
       "      <td>53.000000</td>\n",
       "    </tr>\n",
       "  </tbody>\n",
       "</table>\n",
       "</div>"
      ],
      "text/plain": [
       "                    Iteration - 0  Iteration - 1\n",
       "Mean                     0.008333       0.018311\n",
       "Standard Deviation       0.281581       0.247991\n",
       "Outlier                 17.000000      53.000000"
      ]
     },
     "execution_count": 45,
     "metadata": {},
     "output_type": "execute_result"
    }
   ],
   "source": [
    "df = {}\n",
    "count = 0 \n",
    "while(len(df_6v[chauvenet(df_6v) == True]) != 0 ):\n",
    "    len_0 = len(df_6v)\n",
    "    print(df_6v.mean())\n",
    "    df[f'Iteration - {count}'] = [df_6v.mean(), df_6v.std()]\n",
    "    df_6v = df_6v.drop(df_6v[chauvenet(df_6v) == True].index)\n",
    "    df[f'Iteration - {count}'].append(len_0 - len(df_6v))\n",
    "    df_6v = df_6v.reset_index(drop=True)\n",
    "    count += 1\n",
    "\n",
    "df = pd.DataFrame(df, index=['Mean', 'Standard Deviation', 'Outlier'])\n",
    "df\n"
   ]
  },
  {
   "attachments": {},
   "cell_type": "markdown",
   "metadata": {},
   "source": [
    "# 9v"
   ]
  },
  {
   "cell_type": "code",
   "execution_count": 46,
   "metadata": {},
   "outputs": [
    {
     "name": "stdout",
     "output_type": "stream",
     "text": [
      "0.00966666666666643\n",
      "0.011820330969266893\n",
      "-0.011265267401873351\n"
     ]
    },
    {
     "data": {
      "text/html": [
       "<div>\n",
       "<style scoped>\n",
       "    .dataframe tbody tr th:only-of-type {\n",
       "        vertical-align: middle;\n",
       "    }\n",
       "\n",
       "    .dataframe tbody tr th {\n",
       "        vertical-align: top;\n",
       "    }\n",
       "\n",
       "    .dataframe thead th {\n",
       "        text-align: right;\n",
       "    }\n",
       "</style>\n",
       "<table border=\"1\" class=\"dataframe\">\n",
       "  <thead>\n",
       "    <tr style=\"text-align: right;\">\n",
       "      <th></th>\n",
       "      <th>Iteration - 0</th>\n",
       "      <th>Iteration - 1</th>\n",
       "      <th>Iteration - 2</th>\n",
       "    </tr>\n",
       "  </thead>\n",
       "  <tbody>\n",
       "    <tr>\n",
       "      <th>Mean</th>\n",
       "      <td>0.009667</td>\n",
       "      <td>0.011820</td>\n",
       "      <td>-0.011265</td>\n",
       "    </tr>\n",
       "    <tr>\n",
       "      <th>Standard Deviation</th>\n",
       "      <td>0.176662</td>\n",
       "      <td>0.160362</td>\n",
       "      <td>0.128678</td>\n",
       "    </tr>\n",
       "    <tr>\n",
       "      <th>Outlier</th>\n",
       "      <td>13.000000</td>\n",
       "      <td>50.000000</td>\n",
       "      <td>41.000000</td>\n",
       "    </tr>\n",
       "  </tbody>\n",
       "</table>\n",
       "</div>"
      ],
      "text/plain": [
       "                    Iteration - 0  Iteration - 1  Iteration - 2\n",
       "Mean                     0.009667       0.011820      -0.011265\n",
       "Standard Deviation       0.176662       0.160362       0.128678\n",
       "Outlier                 13.000000      50.000000      41.000000"
      ]
     },
     "execution_count": 46,
     "metadata": {},
     "output_type": "execute_result"
    }
   ],
   "source": [
    "df = {}\n",
    "count = 0 \n",
    "while(len(df_9v[chauvenet(df_9v) == True]) != 0 ):\n",
    "    len_0 = len(df_9v)\n",
    "    print(df_9v.mean())\n",
    "    df[f'Iteration - {count}'] = [df_9v.mean(), df_9v.std()]\n",
    "    df_9v = df_9v.drop(df_9v[chauvenet(df_9v) == True].index)\n",
    "    df[f'Iteration - {count}'].append(len_0 - len(df_9v))\n",
    "    df_9v = df_9v.reset_index(drop=True)\n",
    "    count += 1\n",
    "\n",
    "df = pd.DataFrame(df, index=['Mean', 'Standard Deviation', 'Outlier'])\n",
    "df\n"
   ]
  },
  {
   "attachments": {},
   "cell_type": "markdown",
   "metadata": {},
   "source": [
    "# 12v"
   ]
  },
  {
   "cell_type": "code",
   "execution_count": 47,
   "metadata": {},
   "outputs": [
    {
     "name": "stdout",
     "output_type": "stream",
     "text": [
      "0.00033333333333322913\n",
      "0.0038798920377866837\n",
      "0.020346779900919588\n"
     ]
    },
    {
     "data": {
      "text/html": [
       "<div>\n",
       "<style scoped>\n",
       "    .dataframe tbody tr th:only-of-type {\n",
       "        vertical-align: middle;\n",
       "    }\n",
       "\n",
       "    .dataframe tbody tr th {\n",
       "        vertical-align: top;\n",
       "    }\n",
       "\n",
       "    .dataframe thead th {\n",
       "        text-align: right;\n",
       "    }\n",
       "</style>\n",
       "<table border=\"1\" class=\"dataframe\">\n",
       "  <thead>\n",
       "    <tr style=\"text-align: right;\">\n",
       "      <th></th>\n",
       "      <th>Iteration - 0</th>\n",
       "      <th>Iteration - 1</th>\n",
       "      <th>Iteration - 2</th>\n",
       "    </tr>\n",
       "  </thead>\n",
       "  <tbody>\n",
       "    <tr>\n",
       "      <th>Mean</th>\n",
       "      <td>0.000333</td>\n",
       "      <td>0.003880</td>\n",
       "      <td>0.020347</td>\n",
       "    </tr>\n",
       "    <tr>\n",
       "      <th>Standard Deviation</th>\n",
       "      <td>0.147364</td>\n",
       "      <td>0.135405</td>\n",
       "      <td>0.115761</td>\n",
       "    </tr>\n",
       "    <tr>\n",
       "      <th>Outlier</th>\n",
       "      <td>12.000000</td>\n",
       "      <td>46.000000</td>\n",
       "      <td>62.000000</td>\n",
       "    </tr>\n",
       "  </tbody>\n",
       "</table>\n",
       "</div>"
      ],
      "text/plain": [
       "                    Iteration - 0  Iteration - 1  Iteration - 2\n",
       "Mean                     0.000333       0.003880       0.020347\n",
       "Standard Deviation       0.147364       0.135405       0.115761\n",
       "Outlier                 12.000000      46.000000      62.000000"
      ]
     },
     "execution_count": 47,
     "metadata": {},
     "output_type": "execute_result"
    }
   ],
   "source": [
    "df = {}\n",
    "count = 0 \n",
    "while(len(df_12v[chauvenet(df_12v) == True]) != 0 ):\n",
    "    len_0 = len(df_12v)\n",
    "    print(df_12v.mean())\n",
    "    df[f'Iteration - {count}'] = [df_12v.mean(), df_12v.std()]\n",
    "    df_12v = df_12v.drop(df_12v[chauvenet(df_12v) == True].index)\n",
    "    df[f'Iteration - {count}'].append(len_0 - len(df_12v))\n",
    "    df_12v = df_12v.reset_index(drop=True)\n",
    "    count += 1\n",
    "\n",
    "df = pd.DataFrame(df, index=['Mean', 'Standard Deviation', 'Outlier'])\n",
    "df\n"
   ]
  },
  {
   "attachments": {},
   "cell_type": "markdown",
   "metadata": {},
   "source": [
    "# 15v"
   ]
  },
  {
   "cell_type": "code",
   "execution_count": 48,
   "metadata": {},
   "outputs": [
    {
     "name": "stdout",
     "output_type": "stream",
     "text": [
      "-0.014666666666666444\n",
      "-0.010526315789473445\n",
      "-0.023446327683615306\n"
     ]
    },
    {
     "data": {
      "text/html": [
       "<div>\n",
       "<style scoped>\n",
       "    .dataframe tbody tr th:only-of-type {\n",
       "        vertical-align: middle;\n",
       "    }\n",
       "\n",
       "    .dataframe tbody tr th {\n",
       "        vertical-align: top;\n",
       "    }\n",
       "\n",
       "    .dataframe thead th {\n",
       "        text-align: right;\n",
       "    }\n",
       "</style>\n",
       "<table border=\"1\" class=\"dataframe\">\n",
       "  <thead>\n",
       "    <tr style=\"text-align: right;\">\n",
       "      <th></th>\n",
       "      <th>Iteration - 0</th>\n",
       "      <th>Iteration - 1</th>\n",
       "      <th>Iteration - 2</th>\n",
       "    </tr>\n",
       "  </thead>\n",
       "  <tbody>\n",
       "    <tr>\n",
       "      <th>Mean</th>\n",
       "      <td>-0.014667</td>\n",
       "      <td>-0.010526</td>\n",
       "      <td>-0.023446</td>\n",
       "    </tr>\n",
       "    <tr>\n",
       "      <th>Standard Deviation</th>\n",
       "      <td>0.119421</td>\n",
       "      <td>0.106596</td>\n",
       "      <td>0.090225</td>\n",
       "    </tr>\n",
       "    <tr>\n",
       "      <th>Outlier</th>\n",
       "      <td>12.000000</td>\n",
       "      <td>44.000000</td>\n",
       "      <td>60.000000</td>\n",
       "    </tr>\n",
       "  </tbody>\n",
       "</table>\n",
       "</div>"
      ],
      "text/plain": [
       "                    Iteration - 0  Iteration - 1  Iteration - 2\n",
       "Mean                    -0.014667      -0.010526      -0.023446\n",
       "Standard Deviation       0.119421       0.106596       0.090225\n",
       "Outlier                 12.000000      44.000000      60.000000"
      ]
     },
     "execution_count": 48,
     "metadata": {},
     "output_type": "execute_result"
    }
   ],
   "source": [
    "df = {}\n",
    "count = 0 \n",
    "while(len(df_15v[chauvenet(df_15v) == True]) != 0 ):\n",
    "    len_0 = len(df_15v)\n",
    "    print(df_15v.mean())\n",
    "    df[f'Iteration - {count}'] = [df_15v.mean(), df_15v.std()]\n",
    "    df_15v = df_15v.drop(df_15v[chauvenet(df_15v) == True].index)\n",
    "    df[f'Iteration - {count}'].append(len_0 - len(df_15v))\n",
    "    df_15v = df_15v.reset_index(drop=True)\n",
    "    count += 1\n",
    "\n",
    "df = pd.DataFrame(df, index=['Mean', 'Standard Deviation', 'Outlier'])\n",
    "df\n"
   ]
  },
  {
   "attachments": {},
   "cell_type": "markdown",
   "metadata": {},
   "source": [
    "# 18v"
   ]
  },
  {
   "cell_type": "code",
   "execution_count": 49,
   "metadata": {},
   "outputs": [
    {
     "name": "stdout",
     "output_type": "stream",
     "text": [
      "0.09827777777778073\n"
     ]
    },
    {
     "data": {
      "text/html": [
       "<div>\n",
       "<style scoped>\n",
       "    .dataframe tbody tr th:only-of-type {\n",
       "        vertical-align: middle;\n",
       "    }\n",
       "\n",
       "    .dataframe tbody tr th {\n",
       "        vertical-align: top;\n",
       "    }\n",
       "\n",
       "    .dataframe thead th {\n",
       "        text-align: right;\n",
       "    }\n",
       "</style>\n",
       "<table border=\"1\" class=\"dataframe\">\n",
       "  <thead>\n",
       "    <tr style=\"text-align: right;\">\n",
       "      <th></th>\n",
       "      <th>Iteration - 0</th>\n",
       "    </tr>\n",
       "  </thead>\n",
       "  <tbody>\n",
       "    <tr>\n",
       "      <th>Mean</th>\n",
       "      <td>0.098278</td>\n",
       "    </tr>\n",
       "    <tr>\n",
       "      <th>Standard Deviation</th>\n",
       "      <td>0.101971</td>\n",
       "    </tr>\n",
       "    <tr>\n",
       "      <th>Outlier</th>\n",
       "      <td>10.000000</td>\n",
       "    </tr>\n",
       "  </tbody>\n",
       "</table>\n",
       "</div>"
      ],
      "text/plain": [
       "                    Iteration - 0\n",
       "Mean                     0.098278\n",
       "Standard Deviation       0.101971\n",
       "Outlier                 10.000000"
      ]
     },
     "execution_count": 49,
     "metadata": {},
     "output_type": "execute_result"
    }
   ],
   "source": [
    "df = {}\n",
    "count = 0 \n",
    "while(len(df_18v[chauvenet(df_18v) == True]) != 0 ):\n",
    "    len_0 = len(df_18v)\n",
    "    print(df_18v.mean())\n",
    "    df[f'Iteration - {count}'] = [df_18v.mean(), df_18v.std()]\n",
    "    df_18v = df_18v.drop(df_18v[chauvenet(df_18v) == True].index)\n",
    "    df[f'Iteration - {count}'].append(len_0 - len(df_18v))\n",
    "    df_18v = df_18v.reset_index(drop=True)\n",
    "    count += 1\n",
    "\n",
    "df = pd.DataFrame(df, index=['Mean', 'Standard Deviation', 'Outlier'])\n",
    "df\n"
   ]
  },
  {
   "attachments": {},
   "cell_type": "markdown",
   "metadata": {},
   "source": [
    "# 21v"
   ]
  },
  {
   "cell_type": "code",
   "execution_count": 50,
   "metadata": {},
   "outputs": [
    {
     "name": "stdout",
     "output_type": "stream",
     "text": [
      "0.10595238095238221\n"
     ]
    },
    {
     "data": {
      "text/html": [
       "<div>\n",
       "<style scoped>\n",
       "    .dataframe tbody tr th:only-of-type {\n",
       "        vertical-align: middle;\n",
       "    }\n",
       "\n",
       "    .dataframe tbody tr th {\n",
       "        vertical-align: top;\n",
       "    }\n",
       "\n",
       "    .dataframe thead th {\n",
       "        text-align: right;\n",
       "    }\n",
       "</style>\n",
       "<table border=\"1\" class=\"dataframe\">\n",
       "  <thead>\n",
       "    <tr style=\"text-align: right;\">\n",
       "      <th></th>\n",
       "      <th>Iteration - 0</th>\n",
       "    </tr>\n",
       "  </thead>\n",
       "  <tbody>\n",
       "    <tr>\n",
       "      <th>Mean</th>\n",
       "      <td>0.105952</td>\n",
       "    </tr>\n",
       "    <tr>\n",
       "      <th>Standard Deviation</th>\n",
       "      <td>0.094741</td>\n",
       "    </tr>\n",
       "    <tr>\n",
       "      <th>Outlier</th>\n",
       "      <td>11.000000</td>\n",
       "    </tr>\n",
       "  </tbody>\n",
       "</table>\n",
       "</div>"
      ],
      "text/plain": [
       "                    Iteration - 0\n",
       "Mean                     0.105952\n",
       "Standard Deviation       0.094741\n",
       "Outlier                 11.000000"
      ]
     },
     "execution_count": 50,
     "metadata": {},
     "output_type": "execute_result"
    }
   ],
   "source": [
    "df = {}\n",
    "count = 0 \n",
    "while(len(df_21v[chauvenet(df_21v) == True]) != 0 ):\n",
    "    len_0 = len(df_21v)\n",
    "    print(df_21v.mean())\n",
    "    df[f'Iteration - {count}'] = [df_21v.mean(), df_21v.std()]\n",
    "    df_21v = df_21v.drop(df_21v[chauvenet(df_21v) == True].index)\n",
    "    df[f'Iteration - {count}'].append(len_0 - len(df_21v))\n",
    "    df_21v = df_21v.reset_index(drop=True)\n",
    "    count += 1\n",
    "\n",
    "df = pd.DataFrame(df, index=['Mean', 'Standard Deviation', 'Outlier'])\n",
    "df\n"
   ]
  },
  {
   "attachments": {},
   "cell_type": "markdown",
   "metadata": {},
   "source": [
    "# 24.5v"
   ]
  },
  {
   "cell_type": "code",
   "execution_count": 51,
   "metadata": {},
   "outputs": [
    {
     "name": "stdout",
     "output_type": "stream",
     "text": [
      "0.07110204081632582\n"
     ]
    },
    {
     "data": {
      "text/html": [
       "<div>\n",
       "<style scoped>\n",
       "    .dataframe tbody tr th:only-of-type {\n",
       "        vertical-align: middle;\n",
       "    }\n",
       "\n",
       "    .dataframe tbody tr th {\n",
       "        vertical-align: top;\n",
       "    }\n",
       "\n",
       "    .dataframe thead th {\n",
       "        text-align: right;\n",
       "    }\n",
       "</style>\n",
       "<table border=\"1\" class=\"dataframe\">\n",
       "  <thead>\n",
       "    <tr style=\"text-align: right;\">\n",
       "      <th></th>\n",
       "      <th>Iteration - 0</th>\n",
       "    </tr>\n",
       "  </thead>\n",
       "  <tbody>\n",
       "    <tr>\n",
       "      <th>Mean</th>\n",
       "      <td>0.071102</td>\n",
       "    </tr>\n",
       "    <tr>\n",
       "      <th>Standard Deviation</th>\n",
       "      <td>0.072472</td>\n",
       "    </tr>\n",
       "    <tr>\n",
       "      <th>Outlier</th>\n",
       "      <td>35.000000</td>\n",
       "    </tr>\n",
       "  </tbody>\n",
       "</table>\n",
       "</div>"
      ],
      "text/plain": [
       "                    Iteration - 0\n",
       "Mean                     0.071102\n",
       "Standard Deviation       0.072472\n",
       "Outlier                 35.000000"
      ]
     },
     "execution_count": 51,
     "metadata": {},
     "output_type": "execute_result"
    }
   ],
   "source": [
    "df = {}\n",
    "count = 0 \n",
    "while(len(df_24_5v[chauvenet(df_24_5v) == True]) != 0 ):\n",
    "    len_0 = len(df_24_5v)\n",
    "    print(df_24_5v.mean())\n",
    "    df[f'Iteration - {count}'] = [df_24_5v.mean(), df_24_5v.std()]\n",
    "    df_24_5v = df_24_5v.drop(df_24_5v[chauvenet(df_24_5v) == True].index)\n",
    "    df[f'Iteration - {count}'].append(len_0 - len(df_24_5v))\n",
    "    df_24_5v = df_24_5v.reset_index(drop=True)\n",
    "    count += 1\n",
    "\n",
    "df = pd.DataFrame(df, index=['Mean', 'Standard Deviation', 'Outlier'])\n",
    "df\n"
   ]
  },
  {
   "attachments": {},
   "cell_type": "markdown",
   "metadata": {},
   "source": [
    "# Single Chauvenet"
   ]
  },
  {
   "cell_type": "code",
   "execution_count": 81,
   "metadata": {},
   "outputs": [],
   "source": [
    "df_each_chauvenet = pd.concat([\n",
    "    df_05v,\n",
    "    df_3v,\n",
    "    df_6v,\n",
    "    df_9v,\n",
    "    df_12v,\n",
    "    df_15v,\n",
    "    df_18v,\n",
    "    df_21v,\n",
    "    df_24_5v], axis=1)\n",
    "\n",
    "df_each_chauvenet = df_each_chauvenet.reset_index(drop=True)\n",
    "df_each_chauvenet = df_each_chauvenet.apply(lambda x: x.sort_values().values)\n",
    "list_voltage = []\n",
    "for i in df_each_chauvenet.columns:\n",
    "    list_voltage.append(str(i))\n",
    "\n",
    "df_each_chauvenet_melt = pd.melt(\n",
    "    df_each_chauvenet.reset_index(), id_vars=['index'], value_vars=list_voltage)\n",
    "df_each_chauvenet_melt = df_each_chauvenet_melt.drop(columns=['index'])\n",
    "# replace column names\n",
    "df_each_chauvenet_melt.columns = ['voltage', 'value']\n",
    "df_each_chauvenet_melt = df_each_chauvenet_melt.dropna()\n",
    "df_each_chauvenet_melt.to_csv('../docs 2nd Approach/remove_outlier_each_chauvenet.csv', index=False)"
   ]
  },
  {
   "attachments": {},
   "cell_type": "markdown",
   "metadata": {},
   "source": [
    "# Double Chauvenet"
   ]
  },
  {
   "cell_type": "code",
   "execution_count": 84,
   "metadata": {},
   "outputs": [
    {
     "name": "stdout",
     "output_type": "stream",
     "text": [
      "0.36054575731424265\n",
      "0.13948693328130143\n",
      "0.07921875238796504\n"
     ]
    },
    {
     "data": {
      "text/html": [
       "<div>\n",
       "<style scoped>\n",
       "    .dataframe tbody tr th:only-of-type {\n",
       "        vertical-align: middle;\n",
       "    }\n",
       "\n",
       "    .dataframe tbody tr th {\n",
       "        vertical-align: top;\n",
       "    }\n",
       "\n",
       "    .dataframe thead th {\n",
       "        text-align: right;\n",
       "    }\n",
       "</style>\n",
       "<table border=\"1\" class=\"dataframe\">\n",
       "  <thead>\n",
       "    <tr style=\"text-align: right;\">\n",
       "      <th></th>\n",
       "      <th>Iteration - 0</th>\n",
       "      <th>Iteration - 1</th>\n",
       "      <th>Iteration - 2</th>\n",
       "    </tr>\n",
       "  </thead>\n",
       "  <tbody>\n",
       "    <tr>\n",
       "      <th>Mean</th>\n",
       "      <td>0.360546</td>\n",
       "      <td>0.139487</td>\n",
       "      <td>0.079219</td>\n",
       "    </tr>\n",
       "    <tr>\n",
       "      <th>Standard Deviation</th>\n",
       "      <td>1.441042</td>\n",
       "      <td>0.328872</td>\n",
       "      <td>0.194999</td>\n",
       "    </tr>\n",
       "    <tr>\n",
       "      <th>Outlier</th>\n",
       "      <td>446.000000</td>\n",
       "      <td>382.000000</td>\n",
       "      <td>567.000000</td>\n",
       "    </tr>\n",
       "  </tbody>\n",
       "</table>\n",
       "</div>"
      ],
      "text/plain": [
       "                    Iteration - 0  Iteration - 1  Iteration - 2\n",
       "Mean                     0.360546       0.139487       0.079219\n",
       "Standard Deviation       1.441042       0.328872       0.194999\n",
       "Outlier                446.000000     382.000000     567.000000"
      ]
     },
     "execution_count": 84,
     "metadata": {},
     "output_type": "execute_result"
    }
   ],
   "source": [
    "df = {}\n",
    "df_double_chauvenet = df_each_chauvenet_melt\n",
    "count = 0 \n",
    "while(len(df_double_chauvenet[chauvenet(df_double_chauvenet['value']) == True]) != 0 ):\n",
    "    len_0 = len(df_double_chauvenet)\n",
    "    print(df_double_chauvenet['value'].mean())\n",
    "    df[f'Iteration - {count}'] = [df_double_chauvenet['value'].mean(), df_double_chauvenet['value'].std()]\n",
    "    df_double_chauvenet = df_double_chauvenet.drop(df_double_chauvenet[chauvenet(df_double_chauvenet['value']) == True].index)\n",
    "    df[f'Iteration - {count}'].append(len_0 - len(df_double_chauvenet))\n",
    "    df_double_chauvenet = df_double_chauvenet.reset_index(drop=True)\n",
    "    count += 1\n",
    "\n",
    "df = pd.DataFrame(df, index=['Mean', 'Standard Deviation', 'Outlier'])\n",
    "df\n"
   ]
  },
  {
   "cell_type": "code",
   "execution_count": 85,
   "metadata": {},
   "outputs": [],
   "source": [
    "df_double_chauvenet.to_csv('../docs 2nd Approach/remove_outlier_double_chauvenet.csv', index=False)\n"
   ]
  },
  {
   "cell_type": "code",
   "execution_count": null,
   "metadata": {},
   "outputs": [],
   "source": []
  }
 ],
 "metadata": {
  "kernelspec": {
   "display_name": "Yolo2TFLite",
   "language": "python",
   "name": "python3"
  },
  "language_info": {
   "codemirror_mode": {
    "name": "ipython",
    "version": 3
   },
   "file_extension": ".py",
   "mimetype": "text/x-python",
   "name": "python",
   "nbconvert_exporter": "python",
   "pygments_lexer": "ipython3",
   "version": "3.7.3"
  },
  "orig_nbformat": 4,
  "vscode": {
   "interpreter": {
    "hash": "d6462f88199808a8302aa5aff60b48faf49ed9099ed9d7a9038245edaa5fe56e"
   }
  }
 },
 "nbformat": 4,
 "nbformat_minor": 2
}
