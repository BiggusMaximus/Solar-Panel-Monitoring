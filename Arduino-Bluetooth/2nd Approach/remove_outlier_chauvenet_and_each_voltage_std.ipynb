{
 "cells": [
  {
   "cell_type": "code",
   "execution_count": 3,
   "metadata": {},
   "outputs": [],
   "source": [
    "import pandas as pd\n",
    "import numpy as np\n",
    "import matplotlib.pyplot as plt\n",
    "import scipy \n",
    "import seaborn as sns\n",
    "import scipy.stats as stats\n",
    "import statsmodels.api as sm\n",
    "from statsmodels.formula.api import ols\n",
    "from statsmodels.stats.multicomp import pairwise_tukeyhsd\n",
    "from scipy.special import erfc"
   ]
  },
  {
   "cell_type": "code",
   "execution_count": 7,
   "metadata": {},
   "outputs": [],
   "source": [
    "df_melt = pd.read_csv('../docs 2nd Approach/remove_outlier_each_std.csv')"
   ]
  },
  {
   "cell_type": "code",
   "execution_count": 8,
   "metadata": {},
   "outputs": [],
   "source": [
    "def chauvenet(array):\n",
    "    mean = array.mean()           # Mean of incoming array\n",
    "    stdv = array.std()            # Standard deviation\n",
    "    N = len(array)                # Lenght of incoming array\n",
    "    criterion = 1.0/(2*N)         # Chauvenet's criterion\n",
    "    d = abs(array-mean)/stdv      # Distance of a value to mean in stdv's\n",
    "    prob = erfc(d)                # Area normal dist.    \n",
    "    return prob < criterion       # Use boolean array outside this function ,"
   ]
  },
  {
   "cell_type": "code",
   "execution_count": 9,
   "metadata": {},
   "outputs": [],
   "source": [
    "df = {}\n",
    "df_remove = df_melt\n",
    "df_remove = df_remove.reset_index()"
   ]
  },
  {
   "cell_type": "code",
   "execution_count": 10,
   "metadata": {},
   "outputs": [
    {
     "name": "stdout",
     "output_type": "stream",
     "text": [
      "0.22725928025531297\n",
      "0.11027776132792119\n",
      "0.06233201590036837\n",
      "0.013970247942023112\n",
      "0.02313074518280132\n"
     ]
    },
    {
     "data": {
      "text/html": [
       "<div>\n",
       "<style scoped>\n",
       "    .dataframe tbody tr th:only-of-type {\n",
       "        vertical-align: middle;\n",
       "    }\n",
       "\n",
       "    .dataframe tbody tr th {\n",
       "        vertical-align: top;\n",
       "    }\n",
       "\n",
       "    .dataframe thead th {\n",
       "        text-align: right;\n",
       "    }\n",
       "</style>\n",
       "<table border=\"1\" class=\"dataframe\">\n",
       "  <thead>\n",
       "    <tr style=\"text-align: right;\">\n",
       "      <th></th>\n",
       "      <th>Iteration - 0</th>\n",
       "      <th>Iteration - 1</th>\n",
       "      <th>Iteration - 2</th>\n",
       "      <th>Iteration - 3</th>\n",
       "      <th>Iteration - 4</th>\n",
       "    </tr>\n",
       "  </thead>\n",
       "  <tbody>\n",
       "    <tr>\n",
       "      <th>Mean</th>\n",
       "      <td>0.227259</td>\n",
       "      <td>0.110278</td>\n",
       "      <td>0.062332</td>\n",
       "      <td>0.01397</td>\n",
       "      <td>0.023131</td>\n",
       "    </tr>\n",
       "    <tr>\n",
       "      <th>Standard Deviation</th>\n",
       "      <td>1.167125</td>\n",
       "      <td>0.315257</td>\n",
       "      <td>0.205757</td>\n",
       "      <td>0.11897</td>\n",
       "      <td>0.103316</td>\n",
       "    </tr>\n",
       "    <tr>\n",
       "      <th>Outlier</th>\n",
       "      <td>323.000000</td>\n",
       "      <td>273.000000</td>\n",
       "      <td>516.000000</td>\n",
       "      <td>147.00000</td>\n",
       "      <td>46.000000</td>\n",
       "    </tr>\n",
       "  </tbody>\n",
       "</table>\n",
       "</div>"
      ],
      "text/plain": [
       "                    Iteration - 0  Iteration - 1  Iteration - 2  \\\n",
       "Mean                     0.227259       0.110278       0.062332   \n",
       "Standard Deviation       1.167125       0.315257       0.205757   \n",
       "Outlier                323.000000     273.000000     516.000000   \n",
       "\n",
       "                    Iteration - 3  Iteration - 4  \n",
       "Mean                      0.01397       0.023131  \n",
       "Standard Deviation        0.11897       0.103316  \n",
       "Outlier                 147.00000      46.000000  "
      ]
     },
     "execution_count": 10,
     "metadata": {},
     "output_type": "execute_result"
    }
   ],
   "source": [
    "count = 0 \n",
    "while(len(df_remove[chauvenet(df_remove['value']) == True]) != 0 ):\n",
    "    len_0 = len(df_remove)\n",
    "    print(df_remove['value'].mean())\n",
    "    df[f'Iteration - {count}'] = [df_remove['value'].mean(), df_remove['value'].std()]\n",
    "    df_remove = df_remove.drop(df_remove[chauvenet(df_remove['value']) == True].index)\n",
    "    df[f'Iteration - {count}'].append(len_0 - len(df_remove))\n",
    "    df_remove = df_remove.reset_index(drop=True)\n",
    "    count += 1\n",
    "\n",
    "df = pd.DataFrame(df, index=['Mean', 'Standard Deviation', 'Outlier'])\n",
    "df"
   ]
  },
  {
   "cell_type": "code",
   "execution_count": 12,
   "metadata": {},
   "outputs": [
    {
     "data": {
      "image/png": "[encoded data removed]",
      "text/plain": [
       "<Figure size 1000x1000 with 1 Axes>"
      ]
     },
     "metadata": {},
     "output_type": "display_data"
    }
   ],
   "source": [
    "sns.set(rc={'figure.figsize':(10,10)})\n",
    "sns.set_style('darkgrid')\n",
    "ax = sns.boxplot(x='value', y='voltage', data=df_remove, color='#99c2a2')\n",
    "ax.set(xlabel='Standardized Relative Error', ylabel='Treatment')\n",
    "plt.savefig('../docs 2nd Approach/img/Boxplot Remove Outlier Chauvenet Criterion + each Std.png')\n",
    "plt.show()"
   ]
  },
  {
   "cell_type": "code",
   "execution_count": 13,
   "metadata": {},
   "outputs": [],
   "source": [
    "df.to_csv('../docs 2nd Approach/Chauvenet + each std Table.csv', index=False)\n",
    "df_remove.to_csv('../docs 2nd Approach/remove_outlier_Chauvenet + each std.csv', index=False)"
   ]
  },
  {
   "cell_type": "code",
   "execution_count": null,
   "metadata": {},
   "outputs": [],
   "source": []
  }
 ],
 "metadata": {
  "kernelspec": {
   "display_name": "Yolo2TFLite",
   "language": "python",
   "name": "python3"
  },
  "language_info": {
   "codemirror_mode": {
    "name": "ipython",
    "version": 3
   },
   "file_extension": ".py",
   "mimetype": "text/x-python",
   "name": "python",
   "nbconvert_exporter": "python",
   "pygments_lexer": "ipython3",
   "version": "3.7.3 (v3.7.3:ef4ec6ed12, Mar 25 2019, 22:22:05) [MSC v.1916 64 bit (AMD64)]"
  },
  "orig_nbformat": 4,
  "vscode": {
   "interpreter": {
    "hash": "d6462f88199808a8302aa5aff60b48faf49ed9099ed9d7a9038245edaa5fe56e"
   }
  }
 },
 "nbformat": 4,
 "nbformat_minor": 2
}
