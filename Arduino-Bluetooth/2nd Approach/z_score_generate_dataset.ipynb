{
 "cells": [
  {
   "cell_type": "code",
   "execution_count": 15,
   "metadata": {},
   "outputs": [],
   "source": [
    "import numpy as np\n",
    "import seaborn as sns\n",
    "import pandas as pd\n",
    "import scipy\n",
    "import matplotlib.pyplot as plt\n",
    "import sklearn\n",
    "import os, glob"
   ]
  },
  {
   "attachments": {},
   "cell_type": "markdown",
   "metadata": {},
   "source": [
    "# Generate data"
   ]
  },
  {
   "cell_type": "code",
   "execution_count": 20,
   "metadata": {},
   "outputs": [],
   "source": [
    "df_05v = pd.read_csv('../docs/0.5v_1000data_250delay.csv')\n",
    "df_05v = df_05v[\"voltage\"].to_list()\n",
    "df_3v = pd.read_csv('../docs/3v_1000data_250delay.csv')\n",
    "df_3v = df_3v[\"voltage\"].to_list()\n",
    "df_6v = pd.read_csv('../docs/6v_1000data_250delay.csv')\n",
    "df_6v = df_6v[\"voltage\"].to_list()\n",
    "df_9v = pd.read_csv('../docs/9v_1000data_250delay.csv')\n",
    "df_9v = df_9v[\"voltage\"].to_list()\n",
    "df_12v = pd.read_csv('../docs/12v_1000data_250delay.csv')\n",
    "df_12v = df_12v[\"voltage\"].to_list()\n",
    "df_15v = pd.read_csv('../docs/15v_1000data_250delay.csv')\n",
    "df_15v = df_15v[\"voltage\"].to_list()\n",
    "df_18v = pd.read_csv('../docs/18v_1000data_250delay.csv')\n",
    "df_18v = df_18v[\"voltage\"].to_list()\n",
    "df_21v = pd.read_csv('../docs/21v_1000data_250delay.csv')\n",
    "df_21v = df_21v[\"voltage\"].to_list()\n",
    "df_24_5v = pd.read_csv('../docs/24.5v_1000data_250delay.csv')\n",
    "df_24_5v = df_24_5v[\"voltage\"].to_list()\n",
    "\n",
    "df = {\n",
    "    \"0.5v\" : df_05v,\n",
    "    \"3v\" : df_3v,\n",
    "    \"6v\" : df_6v,\n",
    "    \"9v\" : df_9v,\n",
    "    \"12v\" : df_12v,\n",
    "    \"15v\" : df_15v,\n",
    "    \"18v\" : df_18v,\n",
    "    \"21v\" : df_21v,\n",
    "    \"24.5v\" : df_24_5v\n",
    "}\n",
    "df = pd.DataFrame(df)\n",
    "df = df.apply(lambda x: x.sort_values().values)\n",
    "\n",
    "PATH_SAVE = \"../docs 2nd Approach/\"\n",
    "if not os.path.isfile(PATH_SAVE + \"all_voltage.csv\"):\n",
    "    df.to_csv(PATH_SAVE + \"all_voltage.csv\", index=False)\n",
    "    df.to_excel(PATH_SAVE + \"all_voltage.xlsx\", index=False)\n"
   ]
  },
  {
   "attachments": {},
   "cell_type": "markdown",
   "metadata": {},
   "source": [
    "# Change to Z-Score"
   ]
  },
  {
   "cell_type": "code",
   "execution_count": 21,
   "metadata": {},
   "outputs": [],
   "source": [
    "for i in df.columns:\n",
    "    df[i] = (df[i] - df[i].mean())/df[i].std(ddof=0)\n",
    "\n",
    "if not os.path.isfile(PATH_SAVE + \"z_score_all_voltage.csv\"):\n",
    "    df.to_csv(PATH_SAVE + \"z_score_all_voltage.csv\", index=False)\n",
    "    df.to_excel(PATH_SAVE + \"z_score_all_voltage.xlsx\", index=False)"
   ]
  },
  {
   "attachments": {},
   "cell_type": "markdown",
   "metadata": {},
   "source": [
    "# Pandas Melt "
   ]
  },
  {
   "cell_type": "code",
   "execution_count": 22,
   "metadata": {},
   "outputs": [],
   "source": [
    "if not os.path.isfile(PATH_SAVE + \"z-score_melt_all.csv\"):\n",
    "    df_melt = pd.melt(df.reset_index(), id_vars=['index'], value_vars=[i for i in df.columns])\n",
    "    df_melt.columns = ['index', 'voltage', 'value']\n",
    "    df_melt.to_csv(PATH_SAVE + \"z-score_melt_all.csv\", index=False)\n",
    "    df_melt.to_excel(PATH_SAVE + \"z-score_melt_all.xlsx\", index=False)"
   ]
  },
  {
   "cell_type": "code",
   "execution_count": null,
   "metadata": {},
   "outputs": [],
   "source": []
  }
 ],
 "metadata": {
  "kernelspec": {
   "display_name": "ML-env",
   "language": "python",
   "name": "python3"
  },
  "language_info": {
   "codemirror_mode": {
    "name": "ipython",
    "version": 3
   },
   "file_extension": ".py",
   "mimetype": "text/x-python",
   "name": "python",
   "nbconvert_exporter": "python",
   "pygments_lexer": "ipython3",
   "version": "3.7.3"
  },
  "orig_nbformat": 4,
  "vscode": {
   "interpreter": {
    "hash": "e7815872be8c7050f6e090f9c82737aea424ead08c5fc4354e24f8093b07f811"
   }
  }
 },
 "nbformat": 4,
 "nbformat_minor": 2
}
