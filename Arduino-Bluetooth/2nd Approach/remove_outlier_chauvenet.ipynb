{
 "cells": [
  {
   "cell_type": "code",
   "execution_count": 150,
   "metadata": {},
   "outputs": [],
   "source": [
    "import pandas as pd\n",
    "import numpy as np\n",
    "import matplotlib.pyplot as plt\n",
    "import scipy \n",
    "import seaborn as sns\n",
    "import scipy.stats as stats\n",
    "import statsmodels.api as sm\n",
    "from statsmodels.formula.api import ols\n",
    "from statsmodels.stats.multicomp import pairwise_tukeyhsd\n",
    "from scipy.special import erfc"
   ]
  },
  {
   "cell_type": "code",
   "execution_count": 131,
   "metadata": {},
   "outputs": [
    {
     "data": {
      "text/html": [
       "<div>\n",
       "<style scoped>\n",
       "    .dataframe tbody tr th:only-of-type {\n",
       "        vertical-align: middle;\n",
       "    }\n",
       "\n",
       "    .dataframe tbody tr th {\n",
       "        vertical-align: top;\n",
       "    }\n",
       "\n",
       "    .dataframe thead th {\n",
       "        text-align: right;\n",
       "    }\n",
       "</style>\n",
       "<table border=\"1\" class=\"dataframe\">\n",
       "  <thead>\n",
       "    <tr style=\"text-align: right;\">\n",
       "      <th></th>\n",
       "      <th>voltage</th>\n",
       "      <th>value</th>\n",
       "    </tr>\n",
       "  </thead>\n",
       "  <tbody>\n",
       "    <tr>\n",
       "      <th>0</th>\n",
       "      <td>0.5v</td>\n",
       "      <td>-46.000000</td>\n",
       "    </tr>\n",
       "    <tr>\n",
       "      <th>1</th>\n",
       "      <td>0.5v</td>\n",
       "      <td>-36.000000</td>\n",
       "    </tr>\n",
       "    <tr>\n",
       "      <th>2</th>\n",
       "      <td>0.5v</td>\n",
       "      <td>-36.000000</td>\n",
       "    </tr>\n",
       "    <tr>\n",
       "      <th>3</th>\n",
       "      <td>0.5v</td>\n",
       "      <td>-26.000000</td>\n",
       "    </tr>\n",
       "    <tr>\n",
       "      <th>4</th>\n",
       "      <td>0.5v</td>\n",
       "      <td>-26.000000</td>\n",
       "    </tr>\n",
       "    <tr>\n",
       "      <th>...</th>\n",
       "      <td>...</td>\n",
       "      <td>...</td>\n",
       "    </tr>\n",
       "    <tr>\n",
       "      <th>8995</th>\n",
       "      <td>24.5v</td>\n",
       "      <td>1.959184</td>\n",
       "    </tr>\n",
       "    <tr>\n",
       "      <th>8996</th>\n",
       "      <td>24.5v</td>\n",
       "      <td>1.959184</td>\n",
       "    </tr>\n",
       "    <tr>\n",
       "      <th>8997</th>\n",
       "      <td>24.5v</td>\n",
       "      <td>1.959184</td>\n",
       "    </tr>\n",
       "    <tr>\n",
       "      <th>8998</th>\n",
       "      <td>24.5v</td>\n",
       "      <td>1.959184</td>\n",
       "    </tr>\n",
       "    <tr>\n",
       "      <th>8999</th>\n",
       "      <td>24.5v</td>\n",
       "      <td>1.959184</td>\n",
       "    </tr>\n",
       "  </tbody>\n",
       "</table>\n",
       "<p>9000 rows × 2 columns</p>\n",
       "</div>"
      ],
      "text/plain": [
       "     voltage      value\n",
       "0       0.5v -46.000000\n",
       "1       0.5v -36.000000\n",
       "2       0.5v -36.000000\n",
       "3       0.5v -26.000000\n",
       "4       0.5v -26.000000\n",
       "...      ...        ...\n",
       "8995   24.5v   1.959184\n",
       "8996   24.5v   1.959184\n",
       "8997   24.5v   1.959184\n",
       "8998   24.5v   1.959184\n",
       "8999   24.5v   1.959184\n",
       "\n",
       "[9000 rows x 2 columns]"
      ]
     },
     "execution_count": 131,
     "metadata": {},
     "output_type": "execute_result"
    }
   ],
   "source": [
    "df = pd.read_csv('../docs 2nd Approach/relative_error.csv')\n",
    "df = df.apply(lambda x: x.sort_values().values)\n",
    "list_voltage = []\n",
    "for i in df.columns:\n",
    "    list_voltage.append(str(i))\n",
    "\n",
    "df_melt = pd.melt(df.reset_index(), id_vars=['index'], value_vars=list_voltage)\n",
    "df_melt = df_melt.drop(columns=['index'])\n",
    "# replace column names\n",
    "df_melt.columns = ['voltage', 'value']\n",
    "df_melt"
   ]
  },
  {
   "cell_type": "code",
   "execution_count": 132,
   "metadata": {},
   "outputs": [],
   "source": [
    "def chauvenet(array):\n",
    "    mean = array.mean()           # Mean of incoming array\n",
    "    stdv = array.std()            # Standard deviation\n",
    "    N = len(array)                # Lenght of incoming array\n",
    "    criterion = 1.0/(2*N)         # Chauvenet's criterion\n",
    "    d = abs(array-mean)/stdv      # Distance of a value to mean in stdv's\n",
    "    prob = erfc(d)                # Area normal dist.    \n",
    "    return prob < criterion       # Use boolean array outside this function ,"
   ]
  },
  {
   "cell_type": "code",
   "execution_count": 151,
   "metadata": {},
   "outputs": [],
   "source": [
    "df = {}\n",
    "df_remove = df_melt\n",
    "df_remove = df_remove.reset_index()"
   ]
  },
  {
   "cell_type": "code",
   "execution_count": 152,
   "metadata": {},
   "outputs": [
    {
     "name": "stdout",
     "output_type": "stream",
     "text": [
      "-0.21281505416981558\n",
      "-0.06439244131646775\n",
      "0.08562591763446578\n",
      "0.07383083611434649\n",
      "0.07593892505110275\n"
     ]
    }
   ],
   "source": [
    "count = 0 \n",
    "while(len(df_remove[chauvenet(df_remove['value']) == True]) != 0 ):\n",
    "    len_0 = len(df_remove)\n",
    "    print(df_remove['value'].mean())\n",
    "    df[f'Iteration - {count}'] = [df_remove['value'].mean(), df_remove['value'].std()]\n",
    "    df_remove = df_remove.drop(df_remove[chauvenet(df_remove['value']) == True].index)\n",
    "    df[f'Iteration - {count}'].append(len_0 - len(df_remove))\n",
    "    df_remove = df_remove.reset_index(drop=True)\n",
    "    count += 1\n",
    "\n",
    "df = pd.DataFrame(df, index=['Mean', 'Standard Deviation', 'Outlier'])\n"
   ]
  },
  {
   "cell_type": "code",
   "execution_count": 155,
   "metadata": {},
   "outputs": [
    {
     "data": {
      "text/html": [
       "<div>\n",
       "<style scoped>\n",
       "    .dataframe tbody tr th:only-of-type {\n",
       "        vertical-align: middle;\n",
       "    }\n",
       "\n",
       "    .dataframe tbody tr th {\n",
       "        vertical-align: top;\n",
       "    }\n",
       "\n",
       "    .dataframe thead th {\n",
       "        text-align: right;\n",
       "    }\n",
       "</style>\n",
       "<table border=\"1\" class=\"dataframe\">\n",
       "  <thead>\n",
       "    <tr style=\"text-align: right;\">\n",
       "      <th></th>\n",
       "      <th>Iteration - 0</th>\n",
       "      <th>Iteration - 1</th>\n",
       "      <th>Iteration - 2</th>\n",
       "      <th>Iteration - 3</th>\n",
       "      <th>Iteration - 4</th>\n",
       "    </tr>\n",
       "  </thead>\n",
       "  <tbody>\n",
       "    <tr>\n",
       "      <th>Mean</th>\n",
       "      <td>-0.212815</td>\n",
       "      <td>-0.064392</td>\n",
       "      <td>0.085626</td>\n",
       "      <td>0.073831</td>\n",
       "      <td>0.075939</td>\n",
       "    </tr>\n",
       "    <tr>\n",
       "      <th>Standard Deviation</th>\n",
       "      <td>3.772763</td>\n",
       "      <td>1.917010</td>\n",
       "      <td>1.082947</td>\n",
       "      <td>0.964779</td>\n",
       "      <td>0.961020</td>\n",
       "    </tr>\n",
       "    <tr>\n",
       "      <th>Outlier</th>\n",
       "      <td>324.000000</td>\n",
       "      <td>353.000000</td>\n",
       "      <td>157.000000</td>\n",
       "      <td>8.000000</td>\n",
       "      <td>1.000000</td>\n",
       "    </tr>\n",
       "  </tbody>\n",
       "</table>\n",
       "</div>"
      ],
      "text/plain": [
       "                    Iteration - 0  Iteration - 1  Iteration - 2  \\\n",
       "Mean                    -0.212815      -0.064392       0.085626   \n",
       "Standard Deviation       3.772763       1.917010       1.082947   \n",
       "Outlier                324.000000     353.000000     157.000000   \n",
       "\n",
       "                    Iteration - 3  Iteration - 4  \n",
       "Mean                     0.073831       0.075939  \n",
       "Standard Deviation       0.964779       0.961020  \n",
       "Outlier                  8.000000       1.000000  "
      ]
     },
     "execution_count": 155,
     "metadata": {},
     "output_type": "execute_result"
    }
   ],
   "source": [
    "df.to_excel('../docs 2nd Approach/chauvenet_result_iteration.xlsx')\n",
    "df"
   ]
  },
  {
   "cell_type": "code",
   "execution_count": 145,
   "metadata": {},
   "outputs": [],
   "source": [
    "df.to_csv('../docs 2nd Approach/Chauvenet_Table.csv', index=False)\n",
    "df_remove.to_csv('../docs 2nd Approach/remove_outlier_chauvenet.csv', index=False)"
   ]
  },
  {
   "cell_type": "code",
   "execution_count": 148,
   "metadata": {},
   "outputs": [
    {
     "data": {
      "image/png": "[encoded data removed]",
      "text/plain": [
       "<Figure size 1000x1000 with 1 Axes>"
      ]
     },
     "metadata": {},
     "output_type": "display_data"
    }
   ],
   "source": [
    "sns.set(rc={'figure.figsize':(10,10)})\n",
    "sns.set_style('darkgrid')\n",
    "ax = sns.boxplot(x='value', y='voltage', data=df_remove, color='#99c2a2')\n",
    "ax.set(xlabel='Standardized Relative Error', ylabel='Treatment')\n",
    "plt.savefig('../docs 2nd Approach/img/Boxplot Remove Outlier Chauvenet Criterion.png')\n",
    "plt.show()"
   ]
  },
  {
   "cell_type": "code",
   "execution_count": 147,
   "metadata": {},
   "outputs": [
    {
     "data": {
      "text/plain": [
       "Text(0, 0.5, 'Relative Error Voltage')"
      ]
     },
     "execution_count": 147,
     "metadata": {},
     "output_type": "execute_result"
    },
    {
     "data": {
      "image/png": "[encoded data removed]",
      "text/plain": [
       "<Figure size 1000x1000 with 1 Axes>"
      ]
     },
     "metadata": {},
     "output_type": "display_data"
    }
   ],
   "source": [
    "plt.boxplot(df_remove['value'])\n",
    "plt.ylabel('Relative Error Voltage')"
   ]
  },
  {
   "cell_type": "code",
   "execution_count": null,
   "metadata": {},
   "outputs": [],
   "source": []
  }
 ],
 "metadata": {
  "kernelspec": {
   "display_name": "ML-env",
   "language": "python",
   "name": "python3"
  },
  "language_info": {
   "codemirror_mode": {
    "name": "ipython",
    "version": 3
   },
   "file_extension": ".py",
   "mimetype": "text/x-python",
   "name": "python",
   "nbconvert_exporter": "python",
   "pygments_lexer": "ipython3",
   "version": "3.7.3"
  },
  "orig_nbformat": 4,
  "vscode": {
   "interpreter": {
    "hash": "e7815872be8c7050f6e090f9c82737aea424ead08c5fc4354e24f8093b07f811"
   }
  }
 },
 "nbformat": 4,
 "nbformat_minor": 2
}
