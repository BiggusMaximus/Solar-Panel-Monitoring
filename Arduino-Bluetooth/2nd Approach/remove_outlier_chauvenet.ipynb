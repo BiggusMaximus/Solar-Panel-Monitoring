{
 "cells": [
  {
   "cell_type": "code",
   "execution_count": 100,
   "metadata": {},
   "outputs": [],
   "source": [
    "import pandas as pd\n",
    "import numpy as np\n",
    "import matplotlib.pyplot as plt\n",
    "import scipy \n",
    "import seaborn as sns\n",
    "import scipy.stats as stats\n",
    "import statsmodels.api as sm\n",
    "from statsmodels.formula.api import ols\n",
    "from statsmodels.stats.multicomp import pairwise_tukeyhsd\n",
    "from scipy.special import erfc"
   ]
  },
  {
   "cell_type": "code",
   "execution_count": 360,
   "metadata": {},
   "outputs": [
    {
     "data": {
      "text/html": [
       "<div>\n",
       "<style scoped>\n",
       "    .dataframe tbody tr th:only-of-type {\n",
       "        vertical-align: middle;\n",
       "    }\n",
       "\n",
       "    .dataframe tbody tr th {\n",
       "        vertical-align: top;\n",
       "    }\n",
       "\n",
       "    .dataframe thead th {\n",
       "        text-align: right;\n",
       "    }\n",
       "</style>\n",
       "<table border=\"1\" class=\"dataframe\">\n",
       "  <thead>\n",
       "    <tr style=\"text-align: right;\">\n",
       "      <th></th>\n",
       "      <th>voltage</th>\n",
       "      <th>value</th>\n",
       "    </tr>\n",
       "  </thead>\n",
       "  <tbody>\n",
       "    <tr>\n",
       "      <th>0</th>\n",
       "      <td>0.5v</td>\n",
       "      <td>-24.000000</td>\n",
       "    </tr>\n",
       "    <tr>\n",
       "      <th>1</th>\n",
       "      <td>0.5v</td>\n",
       "      <td>-24.000000</td>\n",
       "    </tr>\n",
       "    <tr>\n",
       "      <th>2</th>\n",
       "      <td>0.5v</td>\n",
       "      <td>-24.000000</td>\n",
       "    </tr>\n",
       "    <tr>\n",
       "      <th>3</th>\n",
       "      <td>0.5v</td>\n",
       "      <td>-18.000000</td>\n",
       "    </tr>\n",
       "    <tr>\n",
       "      <th>4</th>\n",
       "      <td>0.5v</td>\n",
       "      <td>-14.000000</td>\n",
       "    </tr>\n",
       "    <tr>\n",
       "      <th>...</th>\n",
       "      <td>...</td>\n",
       "      <td>...</td>\n",
       "    </tr>\n",
       "    <tr>\n",
       "      <th>8995</th>\n",
       "      <td>24.5v</td>\n",
       "      <td>0.203915</td>\n",
       "    </tr>\n",
       "    <tr>\n",
       "      <th>8996</th>\n",
       "      <td>24.5v</td>\n",
       "      <td>0.203915</td>\n",
       "    </tr>\n",
       "    <tr>\n",
       "      <th>8997</th>\n",
       "      <td>24.5v</td>\n",
       "      <td>0.203915</td>\n",
       "    </tr>\n",
       "    <tr>\n",
       "      <th>8998</th>\n",
       "      <td>24.5v</td>\n",
       "      <td>0.203915</td>\n",
       "    </tr>\n",
       "    <tr>\n",
       "      <th>8999</th>\n",
       "      <td>24.5v</td>\n",
       "      <td>0.203915</td>\n",
       "    </tr>\n",
       "  </tbody>\n",
       "</table>\n",
       "<p>9000 rows × 2 columns</p>\n",
       "</div>"
      ],
      "text/plain": [
       "     voltage      value\n",
       "0       0.5v -24.000000\n",
       "1       0.5v -24.000000\n",
       "2       0.5v -24.000000\n",
       "3       0.5v -18.000000\n",
       "4       0.5v -14.000000\n",
       "...      ...        ...\n",
       "8995   24.5v   0.203915\n",
       "8996   24.5v   0.203915\n",
       "8997   24.5v   0.203915\n",
       "8998   24.5v   0.203915\n",
       "8999   24.5v   0.203915\n",
       "\n",
       "[9000 rows x 2 columns]"
      ]
     },
     "execution_count": 360,
     "metadata": {},
     "output_type": "execute_result"
    }
   ],
   "source": [
    "df = pd.read_csv('../docs 2nd Approach/relative_error.csv')\n",
    "df = df.apply(lambda x: x.sort_values().values)\n",
    "list_voltage = []\n",
    "for i in df.columns:\n",
    "    list_voltage.append(str(i))\n",
    "\n",
    "df_melt = pd.melt(df.reset_index(), id_vars=['index'], value_vars=list_voltage)\n",
    "df_melt = df_melt.drop(columns=['index'])\n",
    "# replace column names\n",
    "df_melt.columns = ['voltage', 'value']\n",
    "df_melt"
   ]
  },
  {
   "cell_type": "code",
   "execution_count": 361,
   "metadata": {},
   "outputs": [],
   "source": [
    "def chauvenet(array):\n",
    "    mean = array.mean()           # Mean of incoming array\n",
    "    stdv = array.std()            # Standard deviation\n",
    "    N = len(array)                # Lenght of incoming array\n",
    "    criterion = 1.0/(2*N)         # Chauvenet's criterion\n",
    "    d = abs(array-mean)/stdv      # Distance of a value to mean in stdv's\n",
    "    prob = erfc(d)                # Area normal dist.    \n",
    "    return prob < criterion       # Use boolean array outside this function ,"
   ]
  },
  {
   "cell_type": "code",
   "execution_count": 362,
   "metadata": {},
   "outputs": [],
   "source": [
    "df = {}\n",
    "df_remove = df_melt\n",
    "df_remove = df_remove.reset_index()"
   ]
  },
  {
   "cell_type": "code",
   "execution_count": 363,
   "metadata": {},
   "outputs": [
    {
     "name": "stdout",
     "output_type": "stream",
     "text": [
      "0.2225284506110743\n",
      "-0.015236120791773023\n",
      "0.032478250774741674\n",
      "0.03859681228091425\n",
      "0.004026113512708367\n",
      "0.004998000895654252\n",
      "0.0060531411569315985\n"
     ]
    }
   ],
   "source": [
    "count = 0 \n",
    "while(len(df_remove[chauvenet(df_remove['value']) == True]) != 0 ):\n",
    "    len_0 = len(df_remove)\n",
    "    print(df_remove['value'].mean())\n",
    "    df[f'Iteration - {count}'] = [df_remove['value'].mean(), df_remove['value'].std()]\n",
    "    df_remove = df_remove.drop(df_remove[chauvenet(df_remove['value']) == True].index)\n",
    "    df[f'Iteration - {count}'].append(len_0 - len(df_remove))\n",
    "    df_remove = df_remove.reset_index(drop=True)\n",
    "    count += 1\n",
    "\n",
    "df = pd.DataFrame(df, index=['Mean', 'Standard Deviation', 'Outlier'])\n"
   ]
  },
  {
   "cell_type": "code",
   "execution_count": 364,
   "metadata": {},
   "outputs": [
    {
     "data": {
      "text/html": [
       "<div>\n",
       "<style scoped>\n",
       "    .dataframe tbody tr th:only-of-type {\n",
       "        vertical-align: middle;\n",
       "    }\n",
       "\n",
       "    .dataframe tbody tr th {\n",
       "        vertical-align: top;\n",
       "    }\n",
       "\n",
       "    .dataframe thead th {\n",
       "        text-align: right;\n",
       "    }\n",
       "</style>\n",
       "<table border=\"1\" class=\"dataframe\">\n",
       "  <thead>\n",
       "    <tr style=\"text-align: right;\">\n",
       "      <th></th>\n",
       "      <th>Iteration - 0</th>\n",
       "      <th>Iteration - 1</th>\n",
       "      <th>Iteration - 2</th>\n",
       "      <th>Iteration - 3</th>\n",
       "      <th>Iteration - 4</th>\n",
       "      <th>Iteration - 5</th>\n",
       "      <th>Iteration - 6</th>\n",
       "    </tr>\n",
       "  </thead>\n",
       "  <tbody>\n",
       "    <tr>\n",
       "      <th>Mean</th>\n",
       "      <td>0.222528</td>\n",
       "      <td>-0.015236</td>\n",
       "      <td>0.032478</td>\n",
       "      <td>0.038597</td>\n",
       "      <td>0.004026</td>\n",
       "      <td>0.004998</td>\n",
       "      <td>0.006053</td>\n",
       "    </tr>\n",
       "    <tr>\n",
       "      <th>Standard Deviation</th>\n",
       "      <td>1.666542</td>\n",
       "      <td>0.486810</td>\n",
       "      <td>0.227936</td>\n",
       "      <td>0.189877</td>\n",
       "      <td>0.123579</td>\n",
       "      <td>0.109826</td>\n",
       "      <td>0.100438</td>\n",
       "    </tr>\n",
       "    <tr>\n",
       "      <th>Outlier</th>\n",
       "      <td>386.000000</td>\n",
       "      <td>107.000000</td>\n",
       "      <td>122.000000</td>\n",
       "      <td>440.000000</td>\n",
       "      <td>122.000000</td>\n",
       "      <td>152.000000</td>\n",
       "      <td>64.000000</td>\n",
       "    </tr>\n",
       "  </tbody>\n",
       "</table>\n",
       "</div>"
      ],
      "text/plain": [
       "                    Iteration - 0  Iteration - 1  Iteration - 2  \\\n",
       "Mean                     0.222528      -0.015236       0.032478   \n",
       "Standard Deviation       1.666542       0.486810       0.227936   \n",
       "Outlier                386.000000     107.000000     122.000000   \n",
       "\n",
       "                    Iteration - 3  Iteration - 4  Iteration - 5  Iteration - 6  \n",
       "Mean                     0.038597       0.004026       0.004998       0.006053  \n",
       "Standard Deviation       0.189877       0.123579       0.109826       0.100438  \n",
       "Outlier                440.000000     122.000000     152.000000      64.000000  "
      ]
     },
     "execution_count": 364,
     "metadata": {},
     "output_type": "execute_result"
    }
   ],
   "source": [
    "df.to_excel('../docs 2nd Approach/chauvenet_result_iteration.xlsx')\n",
    "df"
   ]
  },
  {
   "cell_type": "code",
   "execution_count": 365,
   "metadata": {},
   "outputs": [],
   "source": [
    "df.to_csv('../docs 2nd Approach/Chauvenet_Table.csv', index=False)\n",
    "df_remove.to_csv('../docs 2nd Approach/remove_outlier_chauvenet.csv', index=False)"
   ]
  },
  {
   "cell_type": "code",
   "execution_count": 366,
   "metadata": {},
   "outputs": [
    {
     "data": {
      "image/png": "[encoded data removed]",
      "text/plain": [
       "<Figure size 1000x1000 with 1 Axes>"
      ]
     },
     "metadata": {},
     "output_type": "display_data"
    }
   ],
   "source": [
    "sns.set(rc={'figure.figsize':(10,10)})\n",
    "sns.set_style('darkgrid')\n",
    "ax = sns.boxplot(x='value', y='voltage', data=df_remove, color='#99c2a2')\n",
    "ax.set(xlabel='Standardized Relative Error', ylabel='Treatment')\n",
    "plt.savefig('../docs 2nd Approach/img/Boxplot Remove Outlier Chauvenet Criterion.png')\n",
    "plt.show()"
   ]
  },
  {
   "cell_type": "code",
   "execution_count": 367,
   "metadata": {},
   "outputs": [
    {
     "data": {
      "text/plain": [
       "Text(0, 0.5, 'Relative Error Voltage')"
      ]
     },
     "execution_count": 367,
     "metadata": {},
     "output_type": "execute_result"
    },
    {
     "data": {
      "image/png": "[encoded data removed]",
      "text/plain": [
       "<Figure size 1000x1000 with 1 Axes>"
      ]
     },
     "metadata": {},
     "output_type": "display_data"
    }
   ],
   "source": [
    "plt.boxplot(df_remove['value'])\n",
    "plt.ylabel('Relative Error Voltage')"
   ]
  },
  {
   "cell_type": "code",
   "execution_count": 368,
   "metadata": {},
   "outputs": [
    {
     "data": {
      "text/html": [
       "<div>\n",
       "<style scoped>\n",
       "    .dataframe tbody tr th:only-of-type {\n",
       "        vertical-align: middle;\n",
       "    }\n",
       "\n",
       "    .dataframe tbody tr th {\n",
       "        vertical-align: top;\n",
       "    }\n",
       "\n",
       "    .dataframe thead th {\n",
       "        text-align: right;\n",
       "    }\n",
       "</style>\n",
       "<table border=\"1\" class=\"dataframe\">\n",
       "  <thead>\n",
       "    <tr style=\"text-align: right;\">\n",
       "      <th></th>\n",
       "      <th>index</th>\n",
       "      <th>voltage</th>\n",
       "      <th>value</th>\n",
       "    </tr>\n",
       "  </thead>\n",
       "  <tbody>\n",
       "    <tr>\n",
       "      <th>0</th>\n",
       "      <td>124</td>\n",
       "      <td>0.5v</td>\n",
       "      <td>0.000000</td>\n",
       "    </tr>\n",
       "    <tr>\n",
       "      <th>1</th>\n",
       "      <td>125</td>\n",
       "      <td>0.5v</td>\n",
       "      <td>0.000000</td>\n",
       "    </tr>\n",
       "    <tr>\n",
       "      <th>2</th>\n",
       "      <td>126</td>\n",
       "      <td>0.5v</td>\n",
       "      <td>0.000000</td>\n",
       "    </tr>\n",
       "    <tr>\n",
       "      <th>3</th>\n",
       "      <td>127</td>\n",
       "      <td>0.5v</td>\n",
       "      <td>0.000000</td>\n",
       "    </tr>\n",
       "    <tr>\n",
       "      <th>4</th>\n",
       "      <td>128</td>\n",
       "      <td>0.5v</td>\n",
       "      <td>0.000000</td>\n",
       "    </tr>\n",
       "    <tr>\n",
       "      <th>...</th>\n",
       "      <td>...</td>\n",
       "      <td>...</td>\n",
       "      <td>...</td>\n",
       "    </tr>\n",
       "    <tr>\n",
       "      <th>7602</th>\n",
       "      <td>8995</td>\n",
       "      <td>24.5v</td>\n",
       "      <td>0.203915</td>\n",
       "    </tr>\n",
       "    <tr>\n",
       "      <th>7603</th>\n",
       "      <td>8996</td>\n",
       "      <td>24.5v</td>\n",
       "      <td>0.203915</td>\n",
       "    </tr>\n",
       "    <tr>\n",
       "      <th>7604</th>\n",
       "      <td>8997</td>\n",
       "      <td>24.5v</td>\n",
       "      <td>0.203915</td>\n",
       "    </tr>\n",
       "    <tr>\n",
       "      <th>7605</th>\n",
       "      <td>8998</td>\n",
       "      <td>24.5v</td>\n",
       "      <td>0.203915</td>\n",
       "    </tr>\n",
       "    <tr>\n",
       "      <th>7606</th>\n",
       "      <td>8999</td>\n",
       "      <td>24.5v</td>\n",
       "      <td>0.203915</td>\n",
       "    </tr>\n",
       "  </tbody>\n",
       "</table>\n",
       "<p>7607 rows × 3 columns</p>\n",
       "</div>"
      ],
      "text/plain": [
       "      index voltage     value\n",
       "0       124    0.5v  0.000000\n",
       "1       125    0.5v  0.000000\n",
       "2       126    0.5v  0.000000\n",
       "3       127    0.5v  0.000000\n",
       "4       128    0.5v  0.000000\n",
       "...     ...     ...       ...\n",
       "7602   8995   24.5v  0.203915\n",
       "7603   8996   24.5v  0.203915\n",
       "7604   8997   24.5v  0.203915\n",
       "7605   8998   24.5v  0.203915\n",
       "7606   8999   24.5v  0.203915\n",
       "\n",
       "[7607 rows x 3 columns]"
      ]
     },
     "execution_count": 368,
     "metadata": {},
     "output_type": "execute_result"
    }
   ],
   "source": [
    "df_remove"
   ]
  },
  {
   "cell_type": "code",
   "execution_count": null,
   "metadata": {},
   "outputs": [],
   "source": []
  }
 ],
 "metadata": {
  "kernelspec": {
   "display_name": "ML-env",
   "language": "python",
   "name": "python3"
  },
  "language_info": {
   "codemirror_mode": {
    "name": "ipython",
    "version": 3
   },
   "file_extension": ".py",
   "mimetype": "text/x-python",
   "name": "python",
   "nbconvert_exporter": "python",
   "pygments_lexer": "ipython3",
   "version": "3.7.3"
  },
  "orig_nbformat": 4,
  "vscode": {
   "interpreter": {
    "hash": "e7815872be8c7050f6e090f9c82737aea424ead08c5fc4354e24f8093b07f811"
   }
  }
 },
 "nbformat": 4,
 "nbformat_minor": 2
}
