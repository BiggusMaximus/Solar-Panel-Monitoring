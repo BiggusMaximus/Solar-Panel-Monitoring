{
 "cells": [
  {
   "cell_type": "code",
   "execution_count": 1,
   "metadata": {},
   "outputs": [],
   "source": [
    "import pandas as pd\n",
    "import numpy as np\n",
    "import seaborn as sns\n",
    "import matplotlib.pyplot as plt\n",
    "from sklearn.linear_model import LinearRegression"
   ]
  },
  {
   "cell_type": "code",
   "execution_count": 25,
   "metadata": {},
   "outputs": [],
   "source": [
    "df_05v = pd.read_csv('../docs/0.5v_1000data_250delay.csv')\n",
    "df_05v = df_05v[\"voltage\"]\n",
    "df_3v = pd.read_csv('../docs/3v_1000data_250delay.csv')\n",
    "df_3v = df_3v[\"voltage\"]\n",
    "df_6v = pd.read_csv('../docs/6v_1000data_250delay.csv')\n",
    "df_6v = df_6v[\"voltage\"]\n",
    "df_9v = pd.read_csv('../docs/9v_1000data_250delay.csv')\n",
    "df_9v = df_9v[\"voltage\"]\n",
    "df_12v = pd.read_csv('../docs/12v_1000data_250delay.csv')\n",
    "df_12v = df_12v[\"voltage\"]\n",
    "df_15v = pd.read_csv('../docs/15v_1000data_250delay.csv')\n",
    "df_15v = df_15v[\"voltage\"]\n",
    "df_18v = pd.read_csv('../docs/18v_1000data_250delay.csv')\n",
    "df_18v = df_18v[\"voltage\"]\n",
    "df_21v = pd.read_csv('../docs/21v_1000data_250delay.csv')\n",
    "df_21v = df_21v[\"voltage\"]"
   ]
  },
  {
   "cell_type": "code",
   "execution_count": 27,
   "metadata": {},
   "outputs": [
    {
     "data": {
      "text/plain": [
       "0      11.99\n",
       "1      12.16\n",
       "2      12.04\n",
       "3      11.99\n",
       "4      12.01\n",
       "       ...  \n",
       "995    12.01\n",
       "996    12.01\n",
       "997    11.96\n",
       "998    12.01\n",
       "999    12.01\n",
       "Name: voltage, Length: 1000, dtype: float64"
      ]
     },
     "execution_count": 27,
     "metadata": {},
     "output_type": "execute_result"
    }
   ],
   "source": [
    "df_12v"
   ]
  },
  {
   "cell_type": "code",
   "execution_count": 23,
   "metadata": {},
   "outputs": [],
   "source": [
    "df = {\n",
    "    \"0.5v\" : [],\n",
    "    \"3v\" : [],\n",
    "    \"6v\" : [],\n",
    "    \"9v\" : [],\n",
    "    \"12v\" : [],\n",
    "    \"15v\" : [],\n",
    "    \"18v\" : [],\n",
    "    \"21v\" : []\n",
    "}\n",
    "for i in df_05v:\n",
    "    df[\"0.5v\"].append(0.5-i)\n",
    "for i in df_3v:\n",
    "    df[\"3v\"].append(3-i)\n",
    "for i in df_6v:\n",
    "    df[\"6v\"].append(6-i)\n",
    "for i in df_9v:\n",
    "    df[\"9v\"].append(9-i)\n",
    "for i in df_12v:\n",
    "    df[\"12v\"].append(12-i)\n",
    "for i in df_15v:\n",
    "    df[\"15v\"].append(15-i)\n",
    "for i in df_18v:\n",
    "    df[\"18v\"].append(18-i)\n",
    "for i in df_21v:\n",
    "    df[\"21v\"].append(21-i)\n",
    "\n",
    "df = pd.DataFrame(df)"
   ]
  },
  {
   "cell_type": "code",
   "execution_count": 24,
   "metadata": {},
   "outputs": [
    {
     "data": {
      "text/html": [
       "<div>\n",
       "<style scoped>\n",
       "    .dataframe tbody tr th:only-of-type {\n",
       "        vertical-align: middle;\n",
       "    }\n",
       "\n",
       "    .dataframe tbody tr th {\n",
       "        vertical-align: top;\n",
       "    }\n",
       "\n",
       "    .dataframe thead th {\n",
       "        text-align: right;\n",
       "    }\n",
       "</style>\n",
       "<table border=\"1\" class=\"dataframe\">\n",
       "  <thead>\n",
       "    <tr style=\"text-align: right;\">\n",
       "      <th></th>\n",
       "      <th>0.5v</th>\n",
       "      <th>3v</th>\n",
       "      <th>6v</th>\n",
       "      <th>9v</th>\n",
       "      <th>12v</th>\n",
       "      <th>15v</th>\n",
       "      <th>18v</th>\n",
       "      <th>21v</th>\n",
       "    </tr>\n",
       "  </thead>\n",
       "  <tbody>\n",
       "    <tr>\n",
       "      <th>0</th>\n",
       "      <td>0.01</td>\n",
       "      <td>0.36</td>\n",
       "      <td>0.02</td>\n",
       "      <td>0.04</td>\n",
       "      <td>0.01</td>\n",
       "      <td>-0.04</td>\n",
       "      <td>-0.07</td>\n",
       "      <td>-0.12</td>\n",
       "    </tr>\n",
       "    <tr>\n",
       "      <th>1</th>\n",
       "      <td>-0.04</td>\n",
       "      <td>0.02</td>\n",
       "      <td>0.02</td>\n",
       "      <td>-0.06</td>\n",
       "      <td>-0.16</td>\n",
       "      <td>-0.04</td>\n",
       "      <td>-0.04</td>\n",
       "      <td>-0.12</td>\n",
       "    </tr>\n",
       "    <tr>\n",
       "      <th>2</th>\n",
       "      <td>0.01</td>\n",
       "      <td>-0.10</td>\n",
       "      <td>0.02</td>\n",
       "      <td>0.02</td>\n",
       "      <td>-0.04</td>\n",
       "      <td>-0.01</td>\n",
       "      <td>-0.02</td>\n",
       "      <td>-0.09</td>\n",
       "    </tr>\n",
       "    <tr>\n",
       "      <th>3</th>\n",
       "      <td>-0.04</td>\n",
       "      <td>-0.05</td>\n",
       "      <td>-0.01</td>\n",
       "      <td>-0.08</td>\n",
       "      <td>0.01</td>\n",
       "      <td>-0.01</td>\n",
       "      <td>-0.19</td>\n",
       "      <td>-0.22</td>\n",
       "    </tr>\n",
       "    <tr>\n",
       "      <th>4</th>\n",
       "      <td>0.06</td>\n",
       "      <td>0.05</td>\n",
       "      <td>-0.03</td>\n",
       "      <td>-0.13</td>\n",
       "      <td>-0.01</td>\n",
       "      <td>-0.16</td>\n",
       "      <td>-0.02</td>\n",
       "      <td>-0.17</td>\n",
       "    </tr>\n",
       "  </tbody>\n",
       "</table>\n",
       "</div>"
      ],
      "text/plain": [
       "   0.5v    3v    6v    9v   12v   15v   18v   21v\n",
       "0  0.01  0.36  0.02  0.04  0.01 -0.04 -0.07 -0.12\n",
       "1 -0.04  0.02  0.02 -0.06 -0.16 -0.04 -0.04 -0.12\n",
       "2  0.01 -0.10  0.02  0.02 -0.04 -0.01 -0.02 -0.09\n",
       "3 -0.04 -0.05 -0.01 -0.08  0.01 -0.01 -0.19 -0.22\n",
       "4  0.06  0.05 -0.03 -0.13 -0.01 -0.16 -0.02 -0.17"
      ]
     },
     "execution_count": 24,
     "metadata": {},
     "output_type": "execute_result"
    }
   ],
   "source": [
    "df.head(5)"
   ]
  },
  {
   "cell_type": "code",
   "execution_count": 29,
   "metadata": {},
   "outputs": [],
   "source": [
    "df.to_csv(\"../docs/error_voltage_all.csv\", index=False)\n",
    "df.to_excel(\"../docs/error_voltage_all.xlsx\", index=False)"
   ]
  },
  {
   "cell_type": "code",
   "execution_count": null,
   "metadata": {},
   "outputs": [],
   "source": []
  }
 ],
 "metadata": {
  "kernelspec": {
   "display_name": "Python 3.7.3 ('Yolo2TFLite')",
   "language": "python",
   "name": "python3"
  },
  "language_info": {
   "codemirror_mode": {
    "name": "ipython",
    "version": 3
   },
   "file_extension": ".py",
   "mimetype": "text/x-python",
   "name": "python",
   "nbconvert_exporter": "python",
   "pygments_lexer": "ipython3",
   "version": "3.7.3"
  },
  "orig_nbformat": 4,
  "vscode": {
   "interpreter": {
    "hash": "d6462f88199808a8302aa5aff60b48faf49ed9099ed9d7a9038245edaa5fe56e"
   }
  }
 },
 "nbformat": 4,
 "nbformat_minor": 2
}
