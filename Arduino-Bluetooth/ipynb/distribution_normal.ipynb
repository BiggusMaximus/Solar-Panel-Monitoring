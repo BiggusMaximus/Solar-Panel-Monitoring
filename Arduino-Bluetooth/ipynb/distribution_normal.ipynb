{
 "cells": [
  {
   "cell_type": "code",
   "execution_count": null,
   "metadata": {},
   "outputs": [],
   "source": [
    "import pandas as pd\n",
    "import numpy as np\n",
    "import seaborn as sns\n",
    "import matplotlib.pyplot as plt\n",
    "from sklearn.linear_model import LinearRegression"
   ]
  },
  {
   "cell_type": "code",
   "execution_count": null,
   "metadata": {},
   "outputs": [],
   "source": [
    "df_05v = pd.read_csv('../docs/0.5v_1000data_250delay.csv')\n",
    "df_05v = df_05v[\"voltage\"]\n",
    "df_3v = pd.read_csv('../docs/3v_1000data_250delay.csv')\n",
    "df_3v = df_3v[\"voltage\"]\n",
    "df_6v = pd.read_csv('../docs/6v_1000data_250delay.csv')\n",
    "df_6v = df_6v[\"voltage\"]\n",
    "df_9v = pd.read_csv('../docs/9v_1000data_250delay.csv')\n",
    "df_9v = df_9v[\"voltage\"]\n",
    "df_12v = pd.read_csv('../docs/12v_1000data_250delay.csv')\n",
    "df_12v = df_12v[\"voltage\"]\n",
    "df_15v = pd.read_csv('../docs/15v_1000data_250delay.csv')\n",
    "df_15v = df_15v[\"voltage\"]\n",
    "df_18v = pd.read_csv('../docs/18v_1000data_250delay.csv')\n",
    "df_18v = df_18v[\"voltage\"]\n",
    "df_21v = pd.read_csv('../docs/21v_1000data_250delay.csv')\n",
    "df_21v = df_21v[\"voltage\"]"
   ]
  },
  {
   "cell_type": "code",
   "execution_count": null,
   "metadata": {},
   "outputs": [],
   "source": [
    "df = {\n",
    "    'voltage' : []\n",
    "}"
   ]
  },
  {
   "cell_type": "code",
   "execution_count": null,
   "metadata": {},
   "outputs": [],
   "source": [
    "for i in df_05v:\n",
    "    df[\"voltage\"].append(0.5-i)\n",
    "for i in df_3v:\n",
    "    df[\"voltage\"].append(3-i)\n",
    "for i in df_6v:\n",
    "    df[\"voltage\"].append(6-i)\n",
    "for i in df_9v:\n",
    "    df[\"voltage\"].append(9-i)\n",
    "for i in df_12v:\n",
    "    df[\"voltage\"].append(12-i)\n",
    "for i in df_15v:\n",
    "    df[\"voltage\"].append(15-i)\n",
    "for i in df_18v:\n",
    "    df[\"voltage\"].append(18-i)\n",
    "for i in df_21v:\n",
    "    df[\"voltage\"].append(21-i)\n",
    "\n",
    "df = pd.DataFrame(df)"
   ]
  },
  {
   "cell_type": "code",
   "execution_count": null,
   "metadata": {},
   "outputs": [],
   "source": [
    "bin_count = int(np.ceil(np.log2(len(df[\"voltage\"]))) + 1)\n",
    "bin_count"
   ]
  },
  {
   "cell_type": "code",
   "execution_count": null,
   "metadata": {},
   "outputs": [],
   "source": [
    "# seaborn histogram\n",
    "f = plt.figure()\n",
    "f.set_figwidth(5)\n",
    "f.set_figheight(5)\n",
    "sns.distplot(df[\"voltage\"] , bins=bin_count, color = 'darkblue', \n",
    "             hist_kws={'edgecolor':'black'},\n",
    "             kde_kws={'linewidth': 1})\n",
    "plt.axvline(x=df[\"voltage\"].mean(), linestyle=\"--\", label=\"mean\")\n",
    "plt.axvline(x=df[\"voltage\"].median(), linestyle=\"--\", label=\"median\")\n",
    "plt.axvline(x=df[\"voltage\"].mode(), linestyle=\"--\", label=\"mode\")\n",
    "# Add labels\n",
    "plt.grid()\n",
    "plt.legend()\n",
    "plt.title('Error Distribution')\n",
    "plt.xlabel('Error Value')\n",
    "plt.ylabel('Error Density (%)')\n",
    "plt.savefig('../img/error_distribution.png')"
   ]
  },
  {
   "cell_type": "code",
   "execution_count": null,
   "metadata": {},
   "outputs": [],
   "source": []
  }
 ],
 "metadata": {
  "kernelspec": {
   "display_name": "Python 3.7.3 ('Yolo2TFLite')",
   "language": "python",
   "name": "python3"
  },
  "language_info": {
   "codemirror_mode": {
    "name": "ipython",
    "version": 3
   },
   "file_extension": ".py",
   "mimetype": "text/x-python",
   "name": "python",
   "nbconvert_exporter": "python",
   "pygments_lexer": "ipython3",
   "version": "3.7.3"
  },
  "orig_nbformat": 4,
  "vscode": {
   "interpreter": {
    "hash": "d6462f88199808a8302aa5aff60b48faf49ed9099ed9d7a9038245edaa5fe56e"
   }
  }
 },
 "nbformat": 4,
 "nbformat_minor": 2
}
